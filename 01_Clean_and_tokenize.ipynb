{
 "cells": [
  {
   "cell_type": "markdown",
   "id": "75ae29af-4fa0-49e1-afe7-107f73ec7e9c",
   "metadata": {},
   "source": [
    "# Clean and tokenize the data\n",
    "Open the data (metadata and abstracts) downloaded manually from OpenAlex (see README).\n",
    "* Keop oly entries with an abstract"
   ]
  },
  {
   "cell_type": "code",
   "execution_count": 20,
   "id": "f146ad1a-a9a0-4ce8-9e36-9c78918822d5",
   "metadata": {},
   "outputs": [],
   "source": [
    "import pandas as pd\n",
    "from sklearn.model_selection import train_test_split\n",
    "import zipfile as zf\n",
    "import pickle\n",
    "import os"
   ]
  },
  {
   "cell_type": "code",
   "execution_count": 21,
   "id": "5464d0b6-6eaf-4705-8c6c-a95f12b630ee",
   "metadata": {},
   "outputs": [],
   "source": [
    "DATA_PATH = 'data'  # path to folder with (downloaded or generated) data, will not be committed to git\n",
    "ACRONYM = 'openalex_tng'  # Acronym, aka machine readable name, of this dataset ('tng' stands for \"topic netework graph\")"
   ]
  },
  {
   "cell_type": "code",
   "execution_count": 22,
   "id": "631d5447-9f59-4df3-b92f-050f413bc402",
   "metadata": {},
   "outputs": [],
   "source": [
    "data_df = pd.read_csv(os.path.join(DATA_PATH, f\"{ACRONYM}.csv\"), index_col=0)"
   ]
  },
  {
   "cell_type": "code",
   "execution_count": 23,
   "id": "65937ebf-5817-4a42-b7dc-542a8834d5b6",
   "metadata": {},
   "outputs": [
    {
     "name": "stdout",
     "output_type": "stream",
     "text": [
      "The downloaded data set has 180 rows and 173 columns.\n"
     ]
    }
   ],
   "source": [
    "print(f\"The downloaded data set has {data_df.shape[0]} rows and {data_df.shape[1]} columns.\")"
   ]
  },
  {
   "cell_type": "code",
   "execution_count": 12,
   "id": "3f95a963-66c8-4fb5-a9ca-c9e00b43a3a7",
   "metadata": {},
   "outputs": [
    {
     "data": {
      "text/plain": [
       "'doi, title, display_name, relevance_score, publication_year, publication_date, language, type, type_crossref, indexed_in, countries_distinct_count, institutions_distinct_count, corresponding_author_ids, corresponding_institution_ids, apc_list, apc_paid, fwci, has_fulltext, fulltext_origin, cited_by_count, is_retracted, is_paratext, locations_count, datasets, versions, referenced_works_count, referenced_works, related_works, ngrams_url, cited_by_api_url, updated_date, created_date, ids.openalex, ids.doi, ids.mag, primary_location.is_oa, primary_location.landing_page_url, primary_location.pdf_url, primary_location.source, primary_location.license, primary_location.license_id, primary_location.version, primary_location.is_accepted, primary_location.is_published, open_access.is_oa, open_access.oa_status, open_access.oa_url, open_access.any_repository_has_fulltext, citation_normalized_percentile.value, citation_normalized_percentile.is_in_top_1_percent, citation_normalized_percentile.is_in_top_10_percent, cited_by_percentile_year.min, cited_by_percentile_year.max, biblio.volume, biblio.issue, biblio.first_page, biblio.last_page, primary_topic.id, primary_topic.display_name, primary_topic.score, primary_topic.subfield.id, primary_topic.subfield.display_name, primary_topic.field.id, primary_topic.field.display_name, primary_topic.domain.id, primary_topic.domain.display_name, best_oa_location.is_oa, best_oa_location.landing_page_url, best_oa_location.pdf_url, best_oa_location.source, best_oa_location.license, best_oa_location.license_id, best_oa_location.version, best_oa_location.is_accepted, best_oa_location.is_published, primary_location.source.id, primary_location.source.display_name, primary_location.source.issn_l, primary_location.source.issn, primary_location.source.is_oa, primary_location.source.is_in_doaj, primary_location.source.is_core, primary_location.source.host_organization, primary_location.source.host_organization_name, primary_location.source.host_organization_lineage, primary_location.source.host_organization_lineage_names, primary_location.source.type, apc_list.value, apc_list.currency, apc_list.value_usd, apc_list.provenance, apc_paid.value, apc_paid.currency, apc_paid.value_usd, apc_paid.provenance, best_oa_location.source.id, best_oa_location.source.display_name, best_oa_location.source.issn_l, best_oa_location.source.issn, best_oa_location.source.is_oa, best_oa_location.source.is_in_doaj, best_oa_location.source.is_core, best_oa_location.source.host_organization, best_oa_location.source.host_organization_name, best_oa_location.source.host_organization_lineage, best_oa_location.source.host_organization_lineage_names, best_oa_location.source.type, ids.pmid, best_oa_location, ids.pmcid, citation_normalized_percentile, abstract, authorships.author_position, authorships.institutions, authorships.countries, authorships.is_corresponding, authorships.raw_author_name, authorships.raw_affiliation_strings, authorships.affiliations, authorships.author.id, authorships.author.display_name, authorships.author.orcid, topics.id, topics.display_name, topics.score, topics.subfield.id, topics.subfield.display_name, topics.field.id, topics.field.display_name, topics.domain.id, topics.domain.display_name, keywords.id, keywords.display_name, keywords.score, concepts.id, concepts.wikidata, concepts.display_name, concepts.level, concepts.score, mesh.descriptor_ui, mesh.descriptor_name, mesh.qualifier_ui, mesh.qualifier_name, mesh.is_major_topic, locations.is_oa, locations.landing_page_url, locations.pdf_url, locations.source, locations.license, locations.license_id, locations.version, locations.is_accepted, locations.is_published, locations.source.id, locations.source.display_name, locations.source.issn_l, locations.source.issn, locations.source.is_oa, locations.source.is_in_doaj, locations.source.is_core, locations.source.host_organization, locations.source.host_organization_name, locations.source.host_organization_lineage, locations.source.host_organization_lineage_names, locations.source.type, sustainable_development_goals.id, sustainable_development_goals.score, sustainable_development_goals.display_name, grants.funder, grants.funder_display_name, grants.award_id, counts_by_year.year, counts_by_year.cited_by_count'"
      ]
     },
     "execution_count": 12,
     "metadata": {},
     "output_type": "execute_result"
    }
   ],
   "source": [
    "# List data columns\n",
    "', '.join([colname for colname in data_df.columns])"
   ]
  },
  {
   "cell_type": "code",
   "execution_count": 13,
   "id": "7d087cf4-4699-4978-a97b-426dd3b80d8e",
   "metadata": {},
   "outputs": [
    {
     "data": {
      "text/html": [
       "<div>\n",
       "<style scoped>\n",
       "    .dataframe tbody tr th:only-of-type {\n",
       "        vertical-align: middle;\n",
       "    }\n",
       "\n",
       "    .dataframe tbody tr th {\n",
       "        vertical-align: top;\n",
       "    }\n",
       "\n",
       "    .dataframe thead th {\n",
       "        text-align: right;\n",
       "    }\n",
       "</style>\n",
       "<table border=\"1\" class=\"dataframe\">\n",
       "  <thead>\n",
       "    <tr style=\"text-align: right;\">\n",
       "      <th></th>\n",
       "      <th>doi</th>\n",
       "      <th>title</th>\n",
       "      <th>display_name</th>\n",
       "      <th>relevance_score</th>\n",
       "      <th>publication_year</th>\n",
       "      <th>publication_date</th>\n",
       "      <th>language</th>\n",
       "      <th>type</th>\n",
       "      <th>type_crossref</th>\n",
       "      <th>indexed_in</th>\n",
       "      <th>...</th>\n",
       "      <th>locations.source.host_organization_lineage_names</th>\n",
       "      <th>locations.source.type</th>\n",
       "      <th>sustainable_development_goals.id</th>\n",
       "      <th>sustainable_development_goals.score</th>\n",
       "      <th>sustainable_development_goals.display_name</th>\n",
       "      <th>grants.funder</th>\n",
       "      <th>grants.funder_display_name</th>\n",
       "      <th>grants.award_id</th>\n",
       "      <th>counts_by_year.year</th>\n",
       "      <th>counts_by_year.cited_by_count</th>\n",
       "    </tr>\n",
       "    <tr>\n",
       "      <th>id</th>\n",
       "      <th></th>\n",
       "      <th></th>\n",
       "      <th></th>\n",
       "      <th></th>\n",
       "      <th></th>\n",
       "      <th></th>\n",
       "      <th></th>\n",
       "      <th></th>\n",
       "      <th></th>\n",
       "      <th></th>\n",
       "      <th></th>\n",
       "      <th></th>\n",
       "      <th></th>\n",
       "      <th></th>\n",
       "      <th></th>\n",
       "      <th></th>\n",
       "      <th></th>\n",
       "      <th></th>\n",
       "      <th></th>\n",
       "      <th></th>\n",
       "      <th></th>\n",
       "    </tr>\n",
       "  </thead>\n",
       "  <tbody>\n",
       "    <tr>\n",
       "      <th>https://openalex.org/W3015453090</th>\n",
       "      <td>https://doi.org/10.18653/v1/2020.acl-main.447</td>\n",
       "      <td>S2ORC: The Semantic Scholar Open Research Corpus</td>\n",
       "      <td>S2ORC: The Semantic Scholar Open Research Corpus</td>\n",
       "      <td>32.683903</td>\n",
       "      <td>2020</td>\n",
       "      <td>2020-01-01</td>\n",
       "      <td>en</td>\n",
       "      <td>article</td>\n",
       "      <td>proceedings-article</td>\n",
       "      <td>crossref</td>\n",
       "      <td>...</td>\n",
       "      <td>nan|Cornell University</td>\n",
       "      <td>nan|repository</td>\n",
       "      <td>NaN</td>\n",
       "      <td>NaN</td>\n",
       "      <td>NaN</td>\n",
       "      <td>NaN</td>\n",
       "      <td>NaN</td>\n",
       "      <td>NaN</td>\n",
       "      <td>2024|2023|2022|2021|2020</td>\n",
       "      <td>27|94|57|83|37</td>\n",
       "    </tr>\n",
       "    <tr>\n",
       "      <th>https://openalex.org/W2954057334</th>\n",
       "      <td>https://doi.org/10.1016/j.softx.2019.100263</td>\n",
       "      <td>pybliometrics: Scriptable bibliometrics using ...</td>\n",
       "      <td>pybliometrics: Scriptable bibliometrics using ...</td>\n",
       "      <td>25.612167</td>\n",
       "      <td>2019</td>\n",
       "      <td>2019-07-01</td>\n",
       "      <td>en</td>\n",
       "      <td>article</td>\n",
       "      <td>journal-article</td>\n",
       "      <td>crossref|doaj</td>\n",
       "      <td>...</td>\n",
       "      <td>Elsevier BV|</td>\n",
       "      <td>journal|repository</td>\n",
       "      <td>NaN</td>\n",
       "      <td>NaN</td>\n",
       "      <td>NaN</td>\n",
       "      <td>NaN</td>\n",
       "      <td>NaN</td>\n",
       "      <td>NaN</td>\n",
       "      <td>2024|2023|2022|2021|2020|2019|2015</td>\n",
       "      <td>22|42|28|30|10|1|1</td>\n",
       "    </tr>\n",
       "    <tr>\n",
       "      <th>https://openalex.org/W2906109115</th>\n",
       "      <td>https://doi.org/10.1016/j.tree.2018.11.007</td>\n",
       "      <td>Research Weaving: Visualizing the Future of Re...</td>\n",
       "      <td>Research Weaving: Visualizing the Future of Re...</td>\n",
       "      <td>25.005627</td>\n",
       "      <td>2019</td>\n",
       "      <td>2019-03-01</td>\n",
       "      <td>en</td>\n",
       "      <td>article</td>\n",
       "      <td>journal-article</td>\n",
       "      <td>crossref|pubmed</td>\n",
       "      <td>...</td>\n",
       "      <td>Elsevier BV|Australian National University|Nat...</td>\n",
       "      <td>journal|repository|repository</td>\n",
       "      <td>https://metadata.un.org/sdg/15</td>\n",
       "      <td>0.43</td>\n",
       "      <td>Life on land</td>\n",
       "      <td>NaN</td>\n",
       "      <td>NaN</td>\n",
       "      <td>NaN</td>\n",
       "      <td>2024|2023|2022|2021|2020|2019|2018</td>\n",
       "      <td>27|42|36|22|21|4|1</td>\n",
       "    </tr>\n",
       "  </tbody>\n",
       "</table>\n",
       "<p>3 rows × 173 columns</p>\n",
       "</div>"
      ],
      "text/plain": [
       "                                                                            doi  \\\n",
       "id                                                                                \n",
       "https://openalex.org/W3015453090  https://doi.org/10.18653/v1/2020.acl-main.447   \n",
       "https://openalex.org/W2954057334    https://doi.org/10.1016/j.softx.2019.100263   \n",
       "https://openalex.org/W2906109115     https://doi.org/10.1016/j.tree.2018.11.007   \n",
       "\n",
       "                                                                              title  \\\n",
       "id                                                                                    \n",
       "https://openalex.org/W3015453090   S2ORC: The Semantic Scholar Open Research Corpus   \n",
       "https://openalex.org/W2954057334  pybliometrics: Scriptable bibliometrics using ...   \n",
       "https://openalex.org/W2906109115  Research Weaving: Visualizing the Future of Re...   \n",
       "\n",
       "                                                                       display_name  \\\n",
       "id                                                                                    \n",
       "https://openalex.org/W3015453090   S2ORC: The Semantic Scholar Open Research Corpus   \n",
       "https://openalex.org/W2954057334  pybliometrics: Scriptable bibliometrics using ...   \n",
       "https://openalex.org/W2906109115  Research Weaving: Visualizing the Future of Re...   \n",
       "\n",
       "                                  relevance_score  publication_year  \\\n",
       "id                                                                    \n",
       "https://openalex.org/W3015453090        32.683903              2020   \n",
       "https://openalex.org/W2954057334        25.612167              2019   \n",
       "https://openalex.org/W2906109115        25.005627              2019   \n",
       "\n",
       "                                 publication_date language     type  \\\n",
       "id                                                                    \n",
       "https://openalex.org/W3015453090       2020-01-01       en  article   \n",
       "https://openalex.org/W2954057334       2019-07-01       en  article   \n",
       "https://openalex.org/W2906109115       2019-03-01       en  article   \n",
       "\n",
       "                                        type_crossref       indexed_in  ...  \\\n",
       "id                                                                      ...   \n",
       "https://openalex.org/W3015453090  proceedings-article         crossref  ...   \n",
       "https://openalex.org/W2954057334      journal-article    crossref|doaj  ...   \n",
       "https://openalex.org/W2906109115      journal-article  crossref|pubmed  ...   \n",
       "\n",
       "                                   locations.source.host_organization_lineage_names  \\\n",
       "id                                                                                    \n",
       "https://openalex.org/W3015453090                             nan|Cornell University   \n",
       "https://openalex.org/W2954057334                                       Elsevier BV|   \n",
       "https://openalex.org/W2906109115  Elsevier BV|Australian National University|Nat...   \n",
       "\n",
       "                                          locations.source.type  \\\n",
       "id                                                                \n",
       "https://openalex.org/W3015453090                 nan|repository   \n",
       "https://openalex.org/W2954057334             journal|repository   \n",
       "https://openalex.org/W2906109115  journal|repository|repository   \n",
       "\n",
       "                                 sustainable_development_goals.id  \\\n",
       "id                                                                  \n",
       "https://openalex.org/W3015453090                              NaN   \n",
       "https://openalex.org/W2954057334                              NaN   \n",
       "https://openalex.org/W2906109115   https://metadata.un.org/sdg/15   \n",
       "\n",
       "                                 sustainable_development_goals.score  \\\n",
       "id                                                                     \n",
       "https://openalex.org/W3015453090                                 NaN   \n",
       "https://openalex.org/W2954057334                                 NaN   \n",
       "https://openalex.org/W2906109115                                0.43   \n",
       "\n",
       "                                  sustainable_development_goals.display_name  \\\n",
       "id                                                                             \n",
       "https://openalex.org/W3015453090                                         NaN   \n",
       "https://openalex.org/W2954057334                                         NaN   \n",
       "https://openalex.org/W2906109115                                Life on land   \n",
       "\n",
       "                                  grants.funder  grants.funder_display_name  \\\n",
       "id                                                                            \n",
       "https://openalex.org/W3015453090            NaN                         NaN   \n",
       "https://openalex.org/W2954057334            NaN                         NaN   \n",
       "https://openalex.org/W2906109115            NaN                         NaN   \n",
       "\n",
       "                                  grants.award_id  \\\n",
       "id                                                  \n",
       "https://openalex.org/W3015453090              NaN   \n",
       "https://openalex.org/W2954057334              NaN   \n",
       "https://openalex.org/W2906109115              NaN   \n",
       "\n",
       "                                                 counts_by_year.year  \\\n",
       "id                                                                     \n",
       "https://openalex.org/W3015453090            2024|2023|2022|2021|2020   \n",
       "https://openalex.org/W2954057334  2024|2023|2022|2021|2020|2019|2015   \n",
       "https://openalex.org/W2906109115  2024|2023|2022|2021|2020|2019|2018   \n",
       "\n",
       "                                  counts_by_year.cited_by_count  \n",
       "id                                                               \n",
       "https://openalex.org/W3015453090                 27|94|57|83|37  \n",
       "https://openalex.org/W2954057334             22|42|28|30|10|1|1  \n",
       "https://openalex.org/W2906109115             27|42|36|22|21|4|1  \n",
       "\n",
       "[3 rows x 173 columns]"
      ]
     },
     "execution_count": 13,
     "metadata": {},
     "output_type": "execute_result"
    }
   ],
   "source": [
    "data_df.head(3)"
   ]
  },
  {
   "cell_type": "markdown",
   "id": "fbd685e9-3a5a-460b-acf4-280abf39b27b",
   "metadata": {},
   "source": [
    "## Keep only entries with an abstract"
   ]
  },
  {
   "cell_type": "code",
   "execution_count": 23,
   "id": "69373152-787e-405e-adb8-c47348967eb2",
   "metadata": {},
   "outputs": [
    {
     "name": "stdout",
     "output_type": "stream",
     "text": [
      "Dropped 1525 entries without abstract.\n"
     ]
    }
   ],
   "source": [
    "idx = data_df['abstract'].isna()\n",
    "data_df = data_df[~idx]\n",
    "print(f\"Dropped {idx.sum()} entries without abstract.\")"
   ]
  },
  {
   "cell_type": "markdown",
   "id": "b9c3a0be-2798-43fa-995b-6a6bc129342c",
   "metadata": {},
   "source": [
    "## Split the data into train / validate / test datasets\n",
    "\n",
    "\"train\"\n",
    ">    A percent of the texts reserved for fitting the model: 50%\n",
    "\n",
    "\"validate\"\n",
    ">    A percent of the texts reserved for computing perplexity when fitting the model's k-parameter, and searching for best parameters: 25%\n",
    "\n",
    "\"test\"\n",
    ">    A percent of the texts reserved for testing hypotheses: 25%"
   ]
  },
  {
   "cell_type": "code",
   "execution_count": 25,
   "id": "fd974eae-7b0d-458b-a8f9-8e993acd600d",
   "metadata": {},
   "outputs": [
    {
     "name": "stdout",
     "output_type": "stream",
     "text": [
      "The train dataset for gw has 2758 rows, the validate dataset 1379 rows, the test dataset 1379 rows\n"
     ]
    }
   ],
   "source": [
    "def split(df):\n",
    "    train, test = train_test_split(df, test_size=0.5)\n",
    "    validate, test = train_test_split(test, test_size=0.5)\n",
    "    return(train, validate, test)\n",
    "\n",
    "train_df, validate_df, test_df = split(data_df)\n",
    "print(f\"The train dataset for gw has {train_df.shape[0]} rows, the validate dataset {validate_df.shape[0]} rows, the test dataset {test_df.shape[0]} rows\")"
   ]
  },
  {
   "cell_type": "markdown",
   "id": "64dd8947-8eae-495c-b9cf-37e31ae2984a",
   "metadata": {},
   "source": [
    "## Save the cleaned data"
   ]
  },
  {
   "cell_type": "code",
   "execution_count": 29,
   "id": "8c8d906b-a400-4acd-a7ee-a932d4882c0f",
   "metadata": {},
   "outputs": [],
   "source": [
    "def save_dataset(filename, path, df):\n",
    "    \"\"\"Writes a zipped file with a correctly named csv file inside.\"\"\"\n",
    "    with zf.ZipFile(path, 'w') as ziparchive:\n",
    "        ziparchive.writestr(filename, df.to_csv())\n",
    "\n",
    "def save_datasets(name, train, validate, test):\n",
    "    \"\"\"Saves train, test and validate dataframes as zipped CSV files.\"\"\"\n",
    "    filename_train = f\"{name}_train.csv\"\n",
    "    path_train = os.path.join(DATA_PATH, f\"{filename_train}.zip\")\n",
    "    save_dataset(filename_train, path_train, train)\n",
    "    \n",
    "    filename_validate = f\"{name}_validate.csv\"\n",
    "    path_validate = os.path.join(DATA_PATH, f\"{filename_validate}.zip\")\n",
    "    save_dataset(filename_validate, path_validate, validate)\n",
    "\n",
    "    filename_test = f\"{name}_test.csv\"\n",
    "    path_test = os.path.join(DATA_PATH, f\"{filename_test}.zip\")\n",
    "    save_dataset(filename_test, path_test, test)"
   ]
  },
  {
   "cell_type": "code",
   "execution_count": 33,
   "id": "ca4b0132-5a84-4469-9d94-efd294d08f4d",
   "metadata": {},
   "outputs": [],
   "source": [
    "# save the cleaned data\n",
    "save_datasets(ACRONYM, train_df, validate_df, test_df)"
   ]
  },
  {
   "cell_type": "code",
   "execution_count": null,
   "id": "b4875364-90c5-43a5-b9d3-187d7bd758c0",
   "metadata": {},
   "outputs": [],
   "source": []
  }
 ],
 "metadata": {
  "kernelspec": {
   "display_name": "Python 3 (ipykernel)",
   "language": "python",
   "name": "python3"
  },
  "language_info": {
   "codemirror_mode": {
    "name": "ipython",
    "version": 3
   },
   "file_extension": ".py",
   "mimetype": "text/x-python",
   "name": "python",
   "nbconvert_exporter": "python",
   "pygments_lexer": "ipython3",
   "version": "3.12.2"
  }
 },
 "nbformat": 4,
 "nbformat_minor": 5
}

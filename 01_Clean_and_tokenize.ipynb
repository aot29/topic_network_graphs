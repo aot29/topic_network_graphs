{
 "cells": [
  {
   "cell_type": "markdown",
   "id": "75ae29af-4fa0-49e1-afe7-107f73ec7e9c",
   "metadata": {},
   "source": [
    "# Clean and tokenize the data\n",
    "Open the data (metadata and abstracts) downloaded manually from OpenAlex (see README).\n",
    "* Keop oly entries with an abstract"
   ]
  },
  {
   "cell_type": "code",
   "execution_count": 27,
   "id": "f146ad1a-a9a0-4ce8-9e36-9c78918822d5",
   "metadata": {},
   "outputs": [],
   "source": [
    "import pandas as pd\n",
    "from sklearn.model_selection import train_test_split\n",
    "import zipfile as zf\n",
    "import pickle\n",
    "import os"
   ]
  },
  {
   "cell_type": "code",
   "execution_count": 31,
   "id": "5464d0b6-6eaf-4705-8c6c-a95f12b630ee",
   "metadata": {},
   "outputs": [],
   "source": [
    "DATA_PATH = 'data'  # path to folder with (downloaded or generated) data, will not be committed to git\n",
    "ACRONYM = 'openalex_tng'  # Acronym, aka machine readable name, of this dataset ('tng' stands for \"topic netework graph\")"
   ]
  },
  {
   "cell_type": "code",
   "execution_count": 20,
   "id": "631d5447-9f59-4df3-b92f-050f413bc402",
   "metadata": {},
   "outputs": [],
   "source": [
    "data_df = pd.read_csv(os.path.join(DATA_PATH, f\"{ACRONYM}.csv\"), index_col=0)"
   ]
  },
  {
   "cell_type": "code",
   "execution_count": 21,
   "id": "65937ebf-5817-4a42-b7dc-542a8834d5b6",
   "metadata": {},
   "outputs": [
    {
     "name": "stdout",
     "output_type": "stream",
     "text": [
      "The downloaded data set has 7041 rows and 174 columns.\n"
     ]
    }
   ],
   "source": [
    "print(f\"The downloaded data set has {data_df.shape[0]} rows and {data_df.shape[1]} columns.\")"
   ]
  },
  {
   "cell_type": "code",
   "execution_count": 22,
   "id": "3f95a963-66c8-4fb5-a9ca-c9e00b43a3a7",
   "metadata": {},
   "outputs": [
    {
     "data": {
      "text/plain": [
       "'doi, title, display_name, relevance_score, publication_year, publication_date, language, type, type_crossref, indexed_in, countries_distinct_count, institutions_distinct_count, corresponding_author_ids, corresponding_institution_ids, fwci, has_fulltext, fulltext_origin, cited_by_count, is_retracted, is_paratext, locations_count, datasets, versions, referenced_works_count, referenced_works, related_works, ngrams_url, cited_by_api_url, updated_date, created_date, ids.openalex, ids.doi, ids.mag, ids.pmid, ids.pmcid, primary_location.is_oa, primary_location.landing_page_url, primary_location.pdf_url, primary_location.source.id, primary_location.source.display_name, primary_location.source.issn_l, primary_location.source.issn, primary_location.source.is_oa, primary_location.source.is_in_doaj, primary_location.source.is_core, primary_location.source.host_organization, primary_location.source.host_organization_name, primary_location.source.host_organization_lineage, primary_location.source.host_organization_lineage_names, primary_location.source.type, primary_location.license, primary_location.license_id, primary_location.version, primary_location.is_accepted, primary_location.is_published, open_access.is_oa, open_access.oa_status, open_access.oa_url, open_access.any_repository_has_fulltext, apc_list.value, apc_list.currency, apc_list.value_usd, apc_list.provenance, apc_paid.value, apc_paid.currency, apc_paid.value_usd, apc_paid.provenance, citation_normalized_percentile.value, citation_normalized_percentile.is_in_top_1_percent, citation_normalized_percentile.is_in_top_10_percent, cited_by_percentile_year.min, cited_by_percentile_year.max, biblio.volume, biblio.issue, biblio.first_page, biblio.last_page, primary_topic.id, primary_topic.display_name, primary_topic.score, primary_topic.subfield.id, primary_topic.subfield.display_name, primary_topic.field.id, primary_topic.field.display_name, primary_topic.domain.id, primary_topic.domain.display_name, best_oa_location.is_oa, best_oa_location.landing_page_url, best_oa_location.pdf_url, best_oa_location.source.id, best_oa_location.source.display_name, best_oa_location.source.issn_l, best_oa_location.source.issn, best_oa_location.source.is_oa, best_oa_location.source.is_in_doaj, best_oa_location.source.is_core, best_oa_location.source.host_organization, best_oa_location.source.host_organization_name, best_oa_location.source.host_organization_lineage, best_oa_location.source.host_organization_lineage_names, best_oa_location.source.type, best_oa_location.license, best_oa_location.license_id, best_oa_location.version, best_oa_location.is_accepted, best_oa_location.is_published, apc_list, apc_paid, best_oa_location, primary_location.source, best_oa_location.source, abstract, citation_normalized_percentile, primary_topic, authorships.author_position, authorships.institutions, authorships.countries, authorships.is_corresponding, authorships.raw_author_name, authorships.raw_affiliation_strings, authorships.affiliations, authorships.author.id, authorships.author.display_name, authorships.author.orcid, topics.id, topics.display_name, topics.score, topics.subfield.id, topics.subfield.display_name, topics.field.id, topics.field.display_name, topics.domain.id, topics.domain.display_name, keywords.id, keywords.display_name, keywords.score, concepts.id, concepts.wikidata, concepts.display_name, concepts.level, concepts.score, mesh.descriptor_ui, mesh.descriptor_name, mesh.qualifier_ui, mesh.qualifier_name, mesh.is_major_topic, locations.is_oa, locations.landing_page_url, locations.pdf_url, locations.license, locations.license_id, locations.version, locations.is_accepted, locations.is_published, locations.source.id, locations.source.display_name, locations.source.issn_l, locations.source.issn, locations.source.is_oa, locations.source.is_in_doaj, locations.source.is_core, locations.source.host_organization, locations.source.host_organization_name, locations.source.host_organization_lineage, locations.source.host_organization_lineage_names, locations.source.type, locations.source, sustainable_development_goals.id, sustainable_development_goals.display_name, sustainable_development_goals.score, grants.funder, grants.funder_display_name, grants.award_id, counts_by_year.year, counts_by_year.cited_by_count'"
      ]
     },
     "execution_count": 22,
     "metadata": {},
     "output_type": "execute_result"
    }
   ],
   "source": [
    "# List data columns\n",
    "', '.join([colname for colname in data_df.columns])"
   ]
  },
  {
   "cell_type": "code",
   "execution_count": 26,
   "id": "7d087cf4-4699-4978-a97b-426dd3b80d8e",
   "metadata": {},
   "outputs": [
    {
     "data": {
      "text/html": [
       "<div>\n",
       "<style scoped>\n",
       "    .dataframe tbody tr th:only-of-type {\n",
       "        vertical-align: middle;\n",
       "    }\n",
       "\n",
       "    .dataframe tbody tr th {\n",
       "        vertical-align: top;\n",
       "    }\n",
       "\n",
       "    .dataframe thead th {\n",
       "        text-align: right;\n",
       "    }\n",
       "</style>\n",
       "<table border=\"1\" class=\"dataframe\">\n",
       "  <thead>\n",
       "    <tr style=\"text-align: right;\">\n",
       "      <th></th>\n",
       "      <th>doi</th>\n",
       "      <th>title</th>\n",
       "      <th>display_name</th>\n",
       "      <th>relevance_score</th>\n",
       "      <th>publication_year</th>\n",
       "      <th>publication_date</th>\n",
       "      <th>language</th>\n",
       "      <th>type</th>\n",
       "      <th>type_crossref</th>\n",
       "      <th>indexed_in</th>\n",
       "      <th>...</th>\n",
       "      <th>locations.source.type</th>\n",
       "      <th>locations.source</th>\n",
       "      <th>sustainable_development_goals.id</th>\n",
       "      <th>sustainable_development_goals.display_name</th>\n",
       "      <th>sustainable_development_goals.score</th>\n",
       "      <th>grants.funder</th>\n",
       "      <th>grants.funder_display_name</th>\n",
       "      <th>grants.award_id</th>\n",
       "      <th>counts_by_year.year</th>\n",
       "      <th>counts_by_year.cited_by_count</th>\n",
       "    </tr>\n",
       "    <tr>\n",
       "      <th>id</th>\n",
       "      <th></th>\n",
       "      <th></th>\n",
       "      <th></th>\n",
       "      <th></th>\n",
       "      <th></th>\n",
       "      <th></th>\n",
       "      <th></th>\n",
       "      <th></th>\n",
       "      <th></th>\n",
       "      <th></th>\n",
       "      <th></th>\n",
       "      <th></th>\n",
       "      <th></th>\n",
       "      <th></th>\n",
       "      <th></th>\n",
       "      <th></th>\n",
       "      <th></th>\n",
       "      <th></th>\n",
       "      <th></th>\n",
       "      <th></th>\n",
       "      <th></th>\n",
       "    </tr>\n",
       "  </thead>\n",
       "  <tbody>\n",
       "    <tr>\n",
       "      <th>https://openalex.org/W2150220236</th>\n",
       "      <td>https://doi.org/10.1007/s11192-009-0146-3</td>\n",
       "      <td>Software survey: VOSviewer, a computer program...</td>\n",
       "      <td>Software survey: VOSviewer, a computer program...</td>\n",
       "      <td>133.386140</td>\n",
       "      <td>2009</td>\n",
       "      <td>2009-12-31</td>\n",
       "      <td>en</td>\n",
       "      <td>article</td>\n",
       "      <td>journal-article</td>\n",
       "      <td>crossref|pubmed</td>\n",
       "      <td>...</td>\n",
       "      <td>journal|repository|repository|repository|repos...</td>\n",
       "      <td>nan|nan|nan|nan|nan|nan|nan</td>\n",
       "      <td>NaN</td>\n",
       "      <td>NaN</td>\n",
       "      <td>NaN</td>\n",
       "      <td>NaN</td>\n",
       "      <td>NaN</td>\n",
       "      <td>NaN</td>\n",
       "      <td>2024|2023|2022|2021|2020|2019|2018|2017|2016|2...</td>\n",
       "      <td>1879|2959|2336|1561|908|540|322|151|123|94|75|...</td>\n",
       "    </tr>\n",
       "    <tr>\n",
       "      <th>https://openalex.org/W2138621811</th>\n",
       "      <td>https://doi.org/10.1145/324133.324140</td>\n",
       "      <td>Authoritative sources in a hyperlinked environ...</td>\n",
       "      <td>Authoritative sources in a hyperlinked environ...</td>\n",
       "      <td>129.954510</td>\n",
       "      <td>1999</td>\n",
       "      <td>1999-09-01</td>\n",
       "      <td>en</td>\n",
       "      <td>article</td>\n",
       "      <td>journal-article</td>\n",
       "      <td>crossref</td>\n",
       "      <td>...</td>\n",
       "      <td>journal|repository</td>\n",
       "      <td>nan|nan</td>\n",
       "      <td>https://metadata.un.org/sdg/15</td>\n",
       "      <td>Life on land</td>\n",
       "      <td>0.43</td>\n",
       "      <td>NaN</td>\n",
       "      <td>NaN</td>\n",
       "      <td>NaN</td>\n",
       "      <td>2024|2023|2022|2021|2020|2019|2018|2017|2016|2...</td>\n",
       "      <td>95|233|207|331|353|351|359|344|449|457|502|502...</td>\n",
       "    </tr>\n",
       "    <tr>\n",
       "      <th>https://openalex.org/W2148606196</th>\n",
       "      <td>https://doi.org/10.1137/s003614450342480</td>\n",
       "      <td>The Structure and Function of Complex Networks</td>\n",
       "      <td>The Structure and Function of Complex Networks</td>\n",
       "      <td>95.296745</td>\n",
       "      <td>2003</td>\n",
       "      <td>2003-01-01</td>\n",
       "      <td>en</td>\n",
       "      <td>article</td>\n",
       "      <td>journal-article</td>\n",
       "      <td>arxiv|crossref|datacite</td>\n",
       "      <td>...</td>\n",
       "      <td>journal|repository|metadata</td>\n",
       "      <td>nan|nan|nan</td>\n",
       "      <td>NaN</td>\n",
       "      <td>NaN</td>\n",
       "      <td>NaN</td>\n",
       "      <td>NaN</td>\n",
       "      <td>NaN</td>\n",
       "      <td>NaN</td>\n",
       "      <td>2024|2023|2022|2021|2020|2019|2018|2017|2016|2...</td>\n",
       "      <td>332|561|716|817|821|940|930|977|953|1074|1082|...</td>\n",
       "    </tr>\n",
       "  </tbody>\n",
       "</table>\n",
       "<p>3 rows × 174 columns</p>\n",
       "</div>"
      ],
      "text/plain": [
       "                                                                        doi  \\\n",
       "id                                                                            \n",
       "https://openalex.org/W2150220236  https://doi.org/10.1007/s11192-009-0146-3   \n",
       "https://openalex.org/W2138621811      https://doi.org/10.1145/324133.324140   \n",
       "https://openalex.org/W2148606196   https://doi.org/10.1137/s003614450342480   \n",
       "\n",
       "                                                                              title  \\\n",
       "id                                                                                    \n",
       "https://openalex.org/W2150220236  Software survey: VOSviewer, a computer program...   \n",
       "https://openalex.org/W2138621811  Authoritative sources in a hyperlinked environ...   \n",
       "https://openalex.org/W2148606196     The Structure and Function of Complex Networks   \n",
       "\n",
       "                                                                       display_name  \\\n",
       "id                                                                                    \n",
       "https://openalex.org/W2150220236  Software survey: VOSviewer, a computer program...   \n",
       "https://openalex.org/W2138621811  Authoritative sources in a hyperlinked environ...   \n",
       "https://openalex.org/W2148606196     The Structure and Function of Complex Networks   \n",
       "\n",
       "                                  relevance_score  publication_year  \\\n",
       "id                                                                    \n",
       "https://openalex.org/W2150220236       133.386140              2009   \n",
       "https://openalex.org/W2138621811       129.954510              1999   \n",
       "https://openalex.org/W2148606196        95.296745              2003   \n",
       "\n",
       "                                 publication_date language     type  \\\n",
       "id                                                                    \n",
       "https://openalex.org/W2150220236       2009-12-31       en  article   \n",
       "https://openalex.org/W2138621811       1999-09-01       en  article   \n",
       "https://openalex.org/W2148606196       2003-01-01       en  article   \n",
       "\n",
       "                                    type_crossref               indexed_in  \\\n",
       "id                                                                           \n",
       "https://openalex.org/W2150220236  journal-article          crossref|pubmed   \n",
       "https://openalex.org/W2138621811  journal-article                 crossref   \n",
       "https://openalex.org/W2148606196  journal-article  arxiv|crossref|datacite   \n",
       "\n",
       "                                  ...  \\\n",
       "id                                ...   \n",
       "https://openalex.org/W2150220236  ...   \n",
       "https://openalex.org/W2138621811  ...   \n",
       "https://openalex.org/W2148606196  ...   \n",
       "\n",
       "                                                              locations.source.type  \\\n",
       "id                                                                                    \n",
       "https://openalex.org/W2150220236  journal|repository|repository|repository|repos...   \n",
       "https://openalex.org/W2138621811                                 journal|repository   \n",
       "https://openalex.org/W2148606196                        journal|repository|metadata   \n",
       "\n",
       "                                             locations.source  \\\n",
       "id                                                              \n",
       "https://openalex.org/W2150220236  nan|nan|nan|nan|nan|nan|nan   \n",
       "https://openalex.org/W2138621811                      nan|nan   \n",
       "https://openalex.org/W2148606196                  nan|nan|nan   \n",
       "\n",
       "                                 sustainable_development_goals.id  \\\n",
       "id                                                                  \n",
       "https://openalex.org/W2150220236                              NaN   \n",
       "https://openalex.org/W2138621811   https://metadata.un.org/sdg/15   \n",
       "https://openalex.org/W2148606196                              NaN   \n",
       "\n",
       "                                 sustainable_development_goals.display_name  \\\n",
       "id                                                                            \n",
       "https://openalex.org/W2150220236                                        NaN   \n",
       "https://openalex.org/W2138621811                               Life on land   \n",
       "https://openalex.org/W2148606196                                        NaN   \n",
       "\n",
       "                                  sustainable_development_goals.score  \\\n",
       "id                                                                      \n",
       "https://openalex.org/W2150220236                                  NaN   \n",
       "https://openalex.org/W2138621811                                 0.43   \n",
       "https://openalex.org/W2148606196                                  NaN   \n",
       "\n",
       "                                  grants.funder grants.funder_display_name  \\\n",
       "id                                                                           \n",
       "https://openalex.org/W2150220236            NaN                        NaN   \n",
       "https://openalex.org/W2138621811            NaN                        NaN   \n",
       "https://openalex.org/W2148606196            NaN                        NaN   \n",
       "\n",
       "                                  grants.award_id  \\\n",
       "id                                                  \n",
       "https://openalex.org/W2150220236              NaN   \n",
       "https://openalex.org/W2138621811              NaN   \n",
       "https://openalex.org/W2148606196              NaN   \n",
       "\n",
       "                                                                counts_by_year.year  \\\n",
       "id                                                                                    \n",
       "https://openalex.org/W2150220236  2024|2023|2022|2021|2020|2019|2018|2017|2016|2...   \n",
       "https://openalex.org/W2138621811  2024|2023|2022|2021|2020|2019|2018|2017|2016|2...   \n",
       "https://openalex.org/W2148606196  2024|2023|2022|2021|2020|2019|2018|2017|2016|2...   \n",
       "\n",
       "                                                      counts_by_year.cited_by_count  \n",
       "id                                                                                   \n",
       "https://openalex.org/W2150220236  1879|2959|2336|1561|908|540|322|151|123|94|75|...  \n",
       "https://openalex.org/W2138621811  95|233|207|331|353|351|359|344|449|457|502|502...  \n",
       "https://openalex.org/W2148606196  332|561|716|817|821|940|930|977|953|1074|1082|...  \n",
       "\n",
       "[3 rows x 174 columns]"
      ]
     },
     "execution_count": 26,
     "metadata": {},
     "output_type": "execute_result"
    }
   ],
   "source": [
    "data_df.head(3)"
   ]
  },
  {
   "cell_type": "markdown",
   "id": "fbd685e9-3a5a-460b-acf4-280abf39b27b",
   "metadata": {},
   "source": [
    "## Keep only entries with an abstract"
   ]
  },
  {
   "cell_type": "code",
   "execution_count": 23,
   "id": "69373152-787e-405e-adb8-c47348967eb2",
   "metadata": {},
   "outputs": [
    {
     "name": "stdout",
     "output_type": "stream",
     "text": [
      "Dropped 1525 entries without abstract.\n"
     ]
    }
   ],
   "source": [
    "idx = data_df['abstract'].isna()\n",
    "data_df = data_df[~idx]\n",
    "print(f\"Dropped {idx.sum()} entries without abstract.\")"
   ]
  },
  {
   "cell_type": "markdown",
   "id": "b9c3a0be-2798-43fa-995b-6a6bc129342c",
   "metadata": {},
   "source": [
    "## Split the data into train / validate / test datasets\n",
    "\n",
    "\"train\"\n",
    ">    A percent of the texts reserved for fitting the model: 50%\n",
    "\n",
    "\"validate\"\n",
    ">    A percent of the texts reserved for computing perplexity when fitting the model's k-parameter, and searching for best parameters: 25%\n",
    "\n",
    "\"test\"\n",
    ">    A percent of the texts reserved for testing hypotheses: 25%"
   ]
  },
  {
   "cell_type": "code",
   "execution_count": 25,
   "id": "fd974eae-7b0d-458b-a8f9-8e993acd600d",
   "metadata": {},
   "outputs": [
    {
     "name": "stdout",
     "output_type": "stream",
     "text": [
      "The train dataset for gw has 2758 rows, the validate dataset 1379 rows, the test dataset 1379 rows\n"
     ]
    }
   ],
   "source": [
    "def split(df):\n",
    "    train, test = train_test_split(df, test_size=0.5)\n",
    "    validate, test = train_test_split(test, test_size=0.5)\n",
    "    return(train, validate, test)\n",
    "\n",
    "train_df, validate_df, test_df = split(data_df)\n",
    "print(f\"The train dataset for gw has {train_df.shape[0]} rows, the validate dataset {validate_df.shape[0]} rows, the test dataset {test_df.shape[0]} rows\")"
   ]
  },
  {
   "cell_type": "markdown",
   "id": "64dd8947-8eae-495c-b9cf-37e31ae2984a",
   "metadata": {},
   "source": [
    "## Save the cleaned data"
   ]
  },
  {
   "cell_type": "code",
   "execution_count": 29,
   "id": "8c8d906b-a400-4acd-a7ee-a932d4882c0f",
   "metadata": {},
   "outputs": [],
   "source": [
    "def save_dataset(filename, path, df):\n",
    "    \"\"\"Writes a zipped file with a correctly named csv file inside.\"\"\"\n",
    "    with zf.ZipFile(path, 'w') as ziparchive:\n",
    "        ziparchive.writestr(filename, df.to_csv())\n",
    "\n",
    "def save_datasets(name, train, validate, test):\n",
    "    \"\"\"Saves train, test and validate dataframes as zipped CSV files.\"\"\"\n",
    "    filename_train = f\"{name}_train.csv\"\n",
    "    path_train = os.path.join(DATA_PATH, f\"{filename_train}.zip\")\n",
    "    save_dataset(filename_train, path_train, train)\n",
    "    \n",
    "    filename_validate = f\"{name}_validate.csv\"\n",
    "    path_validate = os.path.join(DATA_PATH, f\"{filename_validate}.zip\")\n",
    "    save_dataset(filename_validate, path_validate, validate)\n",
    "\n",
    "    filename_test = f\"{name}_test.csv\"\n",
    "    path_test = os.path.join(DATA_PATH, f\"{filename_test}.zip\")\n",
    "    save_dataset(filename_test, path_test, test)"
   ]
  },
  {
   "cell_type": "code",
   "execution_count": 33,
   "id": "ca4b0132-5a84-4469-9d94-efd294d08f4d",
   "metadata": {},
   "outputs": [],
   "source": [
    "# save the cleaned data\n",
    "save_datasets(ACRONYM, train_df, validate_df, test_df)"
   ]
  },
  {
   "cell_type": "code",
   "execution_count": null,
   "id": "b4875364-90c5-43a5-b9d3-187d7bd758c0",
   "metadata": {},
   "outputs": [],
   "source": []
  }
 ],
 "metadata": {
  "kernelspec": {
   "display_name": "Python 3 (ipykernel)",
   "language": "python",
   "name": "python3"
  },
  "language_info": {
   "codemirror_mode": {
    "name": "ipython",
    "version": 3
   },
   "file_extension": ".py",
   "mimetype": "text/x-python",
   "name": "python",
   "nbconvert_exporter": "python",
   "pygments_lexer": "ipython3",
   "version": "3.12.2"
  }
 },
 "nbformat": 4,
 "nbformat_minor": 5
}

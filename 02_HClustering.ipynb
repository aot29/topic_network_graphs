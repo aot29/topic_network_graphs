{
 "cells": [
  {
   "cell_type": "markdown",
   "id": "1d020f18-cbcd-4eda-8090-e8ca4dbe2b95",
   "metadata": {},
   "source": [
    "# Hierarchical clustering\n",
    "Based on the keywords given to articles by OpenAlex. see also: https://docs.openalex.org/api-entities/keywords\n",
    "\n",
    "The data prepared in 01_Clean has been augmented with boolean keyword columns, one column for each keyword. Apply hierarchical clustering to these keywords, to identify structure in the dataset."
   ]
  },
  {
   "cell_type": "code",
   "execution_count": 1,
   "id": "208d5a48-ba3f-42a9-a941-8a28c56722a4",
   "metadata": {},
   "outputs": [],
   "source": [
    "from scipy.cluster.hierarchy import linkage, fcluster, dendrogram\n",
    "import pandas as pd\n",
    "import os\n",
    "import gc\n",
    "from matplotlib import pyplot as plt \n",
    "    \n",
    "%matplotlib inline"
   ]
  },
  {
   "cell_type": "code",
   "execution_count": 2,
   "id": "b8171d68-6300-4ed9-a5c8-86fa451f759b",
   "metadata": {},
   "outputs": [],
   "source": [
    "DATA_PATH = 'data'  # path to folder with (downloaded or generated) data, will not be committed to git\n",
    "ACRONYM = 'openalex_tng'  # Acronym, aka machine readable name, of this dataset ('tng' stands for \"topic netework graph\")"
   ]
  },
  {
   "cell_type": "code",
   "execution_count": 3,
   "id": "9ef0b1f7-a3eb-451b-88ac-dc89fa19043f",
   "metadata": {},
   "outputs": [],
   "source": [
    "# load the data\n",
    "clean_df = pd.read_csv(os.path.join(DATA_PATH, f\"{ACRONYM}_clean.csv.zip\"), index_col=0)"
   ]
  },
  {
   "cell_type": "markdown",
   "id": "dea16590-c042-4772-bd54-46b2a5c87635",
   "metadata": {},
   "source": [
    "### Clustering\n",
    "1. Extract the keyword columns into a separate dataframe \n",
    "2. Linkage method computes distance matrix\n",
    "3. Create dendrogram\n",
    "4. fcluster assigns cluster labels to rows."
   ]
  },
  {
   "cell_type": "markdown",
   "id": "73c12e21-288f-4b44-b0c6-38a8e13d146c",
   "metadata": {},
   "source": [
    "#### Extract the keyword columns into a separate dataframe "
   ]
  },
  {
   "cell_type": "code",
   "execution_count": 4,
   "id": "f9ec0820-7f03-4a86-86d4-3a86843dc244",
   "metadata": {},
   "outputs": [],
   "source": [
    "# keyword columns\n",
    "colnames = clean_df.columns[14: -34]\n",
    "keywords_df = clean_df.loc[:, colnames]"
   ]
  },
  {
   "cell_type": "markdown",
   "id": "53d81fb8-1b9b-444e-aaa5-3f5e961a3e3a",
   "metadata": {},
   "source": [
    "#### Linkage method computes distance matrix\n",
    "* Distance metric: Using 'cityblock' (aka manhattan distance) instead of default 'euclidean', as keyword columns are boolean.\n",
    "* Clustering method: As using non-euclidean distance, method 'single' is applied to clustering."
   ]
  },
  {
   "cell_type": "code",
   "execution_count": 5,
   "id": "052294b3-83e2-4009-8cc5-aef75addd59f",
   "metadata": {},
   "outputs": [],
   "source": [
    "# compute distance matrix Z\n",
    "Z = linkage(keywords_df, method = 'complete', metric = 'cityblock', optimal_ordering=True)"
   ]
  },
  {
   "cell_type": "markdown",
   "id": "ec25f2c5-e1ac-4439-ae27-dfcff004db9d",
   "metadata": {},
   "source": [
    "#### Create dendrogram\n",
    "* x-axis: distance between clusters\n",
    "* y-axis: dissimilarity between clusters\n",
    "  "
   ]
  },
  {
   "cell_type": "code",
   "execution_count": 6,
   "id": "29c925c5-075d-474d-9929-7083aa0de6cd",
   "metadata": {},
   "outputs": [
    {
     "data": {
      "image/png": "[encoded data removed]",
      "text/plain": [
       "<Figure size 640x480 with 1 Axes>"
      ]
     },
     "metadata": {},
     "output_type": "display_data"
    }
   ],
   "source": [
    "dn = dendrogram(Z)\n",
    "plt.rcParams['figure.figsize'] = [20, 5]\n",
    "plt.show()"
   ]
  },
  {
   "cell_type": "markdown",
   "id": "75f2ed62-c434-48b7-89cb-bc2d5380bfe3",
   "metadata": {},
   "source": [
    "#### fcluster assigns cluster labels to rows"
   ]
  },
  {
   "cell_type": "code",
   "execution_count": 7,
   "id": "6f1e21ef-2bdf-45c3-b5d5-ef825b7c3cf5",
   "metadata": {},
   "outputs": [
    {
     "data": {
      "text/plain": [
       "cluster_label\n",
       "1    16\n",
       "2    34\n",
       "3    14\n",
       "4     1\n",
       "dtype: int64"
      ]
     },
     "execution_count": 7,
     "metadata": {},
     "output_type": "execute_result"
    }
   ],
   "source": [
    "clean_df['cluster_label'] = fcluster(Z, 4, criterion='maxclust')\n",
    "clean_df.groupby('cluster_label').size()"
   ]
  },
  {
   "cell_type": "markdown",
   "id": "a469ff26-393d-4999-93c6-67c14d805f27",
   "metadata": {},
   "source": [
    "Discard cluster(s) which contain only one article: papers that have their own cluster are handled as oulyers and discarded."
   ]
  },
  {
   "cell_type": "code",
   "execution_count": 8,
   "id": "cecb70e7-09c5-4c5a-9ca4-23e865403289",
   "metadata": {},
   "outputs": [],
   "source": [
    "cluster_labels = clean_df['cluster_label'].unique()\n",
    "groups = clean_df.groupby('cluster_label')\n",
    "singleton_clusters = []\n",
    "for cluster in cluster_labels:\n",
    "    # document count in cluster\n",
    "    if groups.size()[cluster] <= 1:\n",
    "        singleton_clusters.append(cluster)\n",
    "\n",
    "# discard papers in singleton clusters\n",
    "for singleton in singleton_clusters:\n",
    "    idx = clean_df['cluster_label'] == singleton\n",
    "    clean_df = clean_df[~idx]"
   ]
  },
  {
   "cell_type": "markdown",
   "id": "5462587a-62ac-44ce-8808-75135ebc2b1b",
   "metadata": {},
   "source": [
    "## Label each cluster\n",
    "* Count occurrences of keywords by cluster\n",
    "* Use LLM to label each cluster based on keywords"
   ]
  },
  {
   "cell_type": "code",
   "execution_count": 9,
   "id": "c67e350d-b36c-4582-97ca-d6ece459ea6c",
   "metadata": {},
   "outputs": [],
   "source": [
    "MIN_OCCURRENCES = 1  # the minimum number of papers that have a keyword for the keyword to count  \n",
    "cluster_labels = clean_df['cluster_label'].unique()\n",
    "label_keywords = {}\n",
    "for label in cluster_labels:\n",
    "    # get all articles with this label\n",
    "    idx = clean_df['cluster_label'] == label\n",
    "    articles_by_label = clean_df[idx]\n",
    "    # count occurrences of keywords for articles by label\n",
    "    keywords_by_label_df = articles_by_label.loc[:, colnames]  # colnames = names of keyword columns\n",
    "    keywords_counts = keywords_by_label_df.sum().sort_values(ascending=False)\n",
    "    # keep only entries with at least MIN_OCCURRENCES occurrence\n",
    "    keywords_counts = keywords_counts[keywords_counts >= MIN_OCCURRENCES]\n",
    "    label_keywords[label]= keywords_counts"
   ]
  },
  {
   "cell_type": "code",
   "execution_count": 10,
   "id": "e7f26518-b6eb-40bc-9859-3e73edc0ebb4",
   "metadata": {},
   "outputs": [],
   "source": [
    "MAX_KEYWORDS = 30\n",
    "# For each label, concatenate the keywords as a comma-sparated string (ordered by count ascending)\n",
    "topics = {label:', '.join(keywords[:MAX_KEYWORDS].index) for label,keywords in label_keywords.items()}"
   ]
  },
  {
   "cell_type": "markdown",
   "id": "f04ed2b6-7035-4076-95d1-3729767c663a",
   "metadata": {},
   "source": [
    "### Using Llama gated model\n",
    "\n",
    "Prerequisites\n",
    "* Go to huggingface, login, go to settings/access tokens\n",
    "* Create a new READ token, save it to ../token.txt (the token will not be committed to git repo, check .gitignore)\n",
    "* Go here: https://huggingface.co/meta-llama/Meta-Llama-3.1-8B-Instruct and accept the usage conditions"
   ]
  },
  {
   "cell_type": "code",
   "execution_count": 11,
   "id": "3e97171e-838b-4636-b473-9531424eb24d",
   "metadata": {},
   "outputs": [
    {
     "name": "stderr",
     "output_type": "stream",
     "text": [
      "/home/kobv/atroncos/topic_network_graphs/lib/python3.11/site-packages/tqdm/auto.py:21: TqdmWarning: IProgress not found. Please update jupyter and ipywidgets. See https://ipywidgets.readthedocs.io/en/stable/user_install.html\n",
      "  from .autonotebook import tqdm as notebook_tqdm\n"
     ]
    },
    {
     "name": "stdout",
     "output_type": "stream",
     "text": [
      "The token has not been saved to the git credentials helper. Pass `add_to_git_credential=True` in this function directly or `--add-to-git-credential` if using via `huggingface-cli` if you want to set the git credential as well.\n",
      "Token is valid (permission: read).\n",
      "Your token has been saved to /home/kobv/atroncos/.cache/huggingface/token\n",
      "Login successful\n"
     ]
    }
   ],
   "source": [
    "# Login programmatically (after creating token and accepting usage conditions, see above)\n",
    "from huggingface_hub import login\n",
    "with open('./token.txt', 'r') as handle:\n",
    "    token = handle.read()\n",
    "login(token=token)"
   ]
  },
  {
   "cell_type": "code",
   "execution_count": 12,
   "id": "f38f76e0-624c-4b5a-b57e-b584c7a46a43",
   "metadata": {},
   "outputs": [],
   "source": [
    "import transformers\n",
    "import torch\n",
    "from abc import ABC, abstractmethod\n",
    "\n",
    "\n",
    "class Promptable(ABC):\n",
    "    \"\"\"Abstract class for LLM wrappers.\"\"\"\n",
    "\n",
    "    @abstractmethod\n",
    "    def predict_label(self, system_msg, user_msg): \n",
    "        \"\"\"Prompts the LLM to predict a label for a topic described by list of keywords.\n",
    "\n",
    "        @param system_msg: content of the system message (string)\n",
    "        @param terms: content of the user message (string)\n",
    "        @returns: response string\n",
    "        \"\"\"\n",
    "        pass\n",
    "\n",
    "\n",
    "class Manegeable(ABC):\n",
    "    \"\"\"Abstract class for classes that can be instatiated using the 'with' statement.\"\"\"\n",
    "\n",
    "    @abstractmethod\n",
    "    def __enter__(self): \n",
    "        \"\"\"Called when the wrapper is instantiated via the python \"with\" statement.\"\"\"\n",
    "        pass\n",
    "\n",
    "    @abstractmethod\n",
    "    def __exit__(self, *args):\n",
    "        \"\"\"Called when the wrapper is disposed of via the python \"with\" statement.\"\"\"\n",
    "        pass\n",
    "\n",
    "\n",
    "class Llama(Promptable, Manegeable):\n",
    "    \"\"\"A wrapper class for the Llama LLM.\"\"\"\n",
    "\n",
    "    def __init__(self):\n",
    "        self.model_id=\"meta-llama/Meta-Llama-3.1-8B-Instruct\"\n",
    "\n",
    "    def predict_label(self, system_msg, user_msg):\n",
    "        \"\"\"Overrides abstract method from Promptable.\"\"\"\n",
    "        messages = [\n",
    "            {\"role\": \"system\", \"content\": system_msg},\n",
    "            {\"role\": \"user\", \"content\": user_msg},\n",
    "        ]\n",
    "        outputs = self.pipeline(\n",
    "            messages,\n",
    "        )\n",
    "        return outputs[0][\"generated_text\"][-1]['content']\n",
    "\n",
    "    def __enter__(self):\n",
    "        \"\"\"Overrides abstract method from Manageable.\"\"\"\n",
    "        self.pipeline = transformers.pipeline(\n",
    "            \"text-generation\",\n",
    "            model=self.model_id,\n",
    "            model_kwargs={\"torch_dtype\": torch.bfloat16},\n",
    "            max_new_tokens=200,\n",
    "            device_map=\"auto\",\n",
    "            do_sample=False,\n",
    "            temperature=0.1\n",
    "        )\n",
    "        return self\n",
    "\n",
    "    def __exit__(self, *args):\n",
    "        \"\"\"Overrides abstract method from Manageable.\"\"\"\n",
    "        del self.pipeline\n",
    "        # release GPU memory\n",
    "        gc.collect()  # explicitly call garbage collector\n",
    "        torch.cuda.empty_cache()"
   ]
  },
  {
   "cell_type": "code",
   "execution_count": 13,
   "id": "a0bc9708-9d5d-49b4-8cd5-3c18f9fb9eec",
   "metadata": {},
   "outputs": [
    {
     "name": "stderr",
     "output_type": "stream",
     "text": [
      "Loading checkpoint shards: 100%|██████████████████████████████████████████████████████████████| 4/4 [00:00<00:00,  7.39it/s]\n",
      "Some parameters are on the meta device device because they were offloaded to the cpu.\n",
      "/home/kobv/atroncos/topic_network_graphs/lib/python3.11/site-packages/transformers/generation/configuration_utils.py:567: UserWarning: `do_sample` is set to `False`. However, `temperature` is set to `0.1` -- this flag is only used in sample-based generation modes. You should set `do_sample=True` or unset `temperature`.\n",
      "  warnings.warn(\n",
      "/home/kobv/atroncos/topic_network_graphs/lib/python3.11/site-packages/transformers/generation/configuration_utils.py:572: UserWarning: `do_sample` is set to `False`. However, `top_p` is set to `0.9` -- this flag is only used in sample-based generation modes. You should set `do_sample=True` or unset `top_p`.\n",
      "  warnings.warn(\n",
      "Setting `pad_token_id` to `eos_token_id`:128001 for open-end generation.\n"
     ]
    },
    {
     "name": "stdout",
     "output_type": "stream",
     "text": [
      "Based on the provided terms, I've identified three distinct topics and assigned a concise, human-readable label to each:\n",
      "\n",
      "**Topic 1: Research Quality and Impact Assessment**\n",
      "This topic focuses on evaluating the quality and impact of research, including bibliometric analysis, citation analysis, and scientific impact assessment.\n",
      "\n",
      "**Topic 2: Research Collaboration and Open Science**\n",
      "This topic explores the dynamics of research collaboration, including co-authorship networks, interdisciplinary research, and open science practices, such as open access publishing and data sharing.\n",
      "\n",
      "**Topic 3: Research Information Science and Data Management**\n",
      "This topic delves into the science of research information, including citation analysis, data citation, and scientific data management, as well as the use of digital tools and methods for research evaluation, such as bibliometric analysis and social network analysis.\n"
     ]
    }
   ],
   "source": [
    "CATEGORY = \"Bibliometric Analysis and Research Evaluation\"  # primary topic of dataset from OpenAlex\n",
    "\n",
    "topic_nums = []  # the numervcal identifeir of the topic, as given by clustering\n",
    "topic_keywords = []  # the keywords for each topic\n",
    "labels = []  # the labe predicted by the LLM\n",
    "system_msg = f\"You are an AI assistant specialised in {CATEGORY}\"\n",
    "user_msg = f\"\"\"\n",
    "    What short, concise and human-readable labels best describe the topics characterised by these terms? \n",
    "    Output one label for each of the {len(topics)} topics. \n",
    "    Make each label as different as possible from the other labels. \n",
    "    \"\"\"\n",
    "with Llama() as model:\n",
    "    for topic_num,terms in topics.items():\n",
    "        topic_nums.append(topic_num)\n",
    "        topic_keywords.append(terms)\n",
    "        user_msg += f\"Topic {topic_num}: {terms}. \"\n",
    "    response = model.predict_label(system_msg, user_msg)\n",
    "print(response)"
   ]
  },
  {
   "cell_type": "markdown",
   "id": "00f3d144-ffdd-4e23-abde-535c1c0dc2f9",
   "metadata": {},
   "source": [
    "Parse the response to extract the predicted labels."
   ]
  },
  {
   "cell_type": "code",
   "execution_count": 14,
   "id": "fe2eea60-b76b-4dfd-961d-17efbb076c7d",
   "metadata": {},
   "outputs": [],
   "source": [
    "labels = []\n",
    "for line in response.split('\\n'):\n",
    "    if len(line) > 0 and \"Topic\" in line:\n",
    "        label = line.split(':')[-1].strip().strip('\"').strip('**')\n",
    "        labels.append(label)"
   ]
  },
  {
   "cell_type": "code",
   "execution_count": 15,
   "id": "1560fe78-b962-4c28-ad39-e1c88c2beea9",
   "metadata": {},
   "outputs": [
    {
     "data": {
      "text/html": [
       "<div>\n",
       "<style scoped>\n",
       "    .dataframe tbody tr th:only-of-type {\n",
       "        vertical-align: middle;\n",
       "    }\n",
       "\n",
       "    .dataframe tbody tr th {\n",
       "        vertical-align: top;\n",
       "    }\n",
       "\n",
       "    .dataframe thead th {\n",
       "        text-align: right;\n",
       "    }\n",
       "</style>\n",
       "<table border=\"1\" class=\"dataframe\">\n",
       "  <thead>\n",
       "    <tr style=\"text-align: right;\">\n",
       "      <th></th>\n",
       "      <th>topic_number</th>\n",
       "      <th>keywords</th>\n",
       "      <th>label</th>\n",
       "      <th>article_count</th>\n",
       "    </tr>\n",
       "  </thead>\n",
       "  <tbody>\n",
       "    <tr>\n",
       "      <th>0</th>\n",
       "      <td>1</td>\n",
       "      <td>Research Evaluation, Bibliometric Analysis, Sc...</td>\n",
       "      <td>Research Quality and Impact Assessment</td>\n",
       "      <td>16</td>\n",
       "    </tr>\n",
       "    <tr>\n",
       "      <th>1</th>\n",
       "      <td>2</td>\n",
       "      <td>Research Evaluation, Collaboration Patterns, I...</td>\n",
       "      <td>Research Collaboration and Open Science</td>\n",
       "      <td>34</td>\n",
       "    </tr>\n",
       "    <tr>\n",
       "      <th>2</th>\n",
       "      <td>3</td>\n",
       "      <td>Interdisciplinary Research, Citation analysis,...</td>\n",
       "      <td>Research Information Science and Data Management</td>\n",
       "      <td>14</td>\n",
       "    </tr>\n",
       "  </tbody>\n",
       "</table>\n",
       "</div>"
      ],
      "text/plain": [
       "   topic_number                                           keywords  \\\n",
       "0             1  Research Evaluation, Bibliometric Analysis, Sc...   \n",
       "1             2  Research Evaluation, Collaboration Patterns, I...   \n",
       "2             3  Interdisciplinary Research, Citation analysis,...   \n",
       "\n",
       "                                              label  article_count  \n",
       "0            Research Quality and Impact Assessment             16  \n",
       "1           Research Collaboration and Open Science             34  \n",
       "2  Research Information Science and Data Management             14  "
      ]
     },
     "execution_count": 15,
     "metadata": {},
     "output_type": "execute_result"
    }
   ],
   "source": [
    "labels_df = pd.DataFrame.from_dict({'topic_number':topic_nums, 'keywords':topic_keywords})  # make a dataframe from topic number and keywords\n",
    "labels_df.sort_values('topic_number', ignore_index=True, inplace=True)  # sort by topic number\n",
    "labels_df['label'] = labels # add the labels (which are sorted by topic number in the LLM response)\n",
    "labels_df['article_count'] = clean_df.groupby('cluster_label').size().values  # add article counts\n",
    "labels_df"
   ]
  },
  {
   "cell_type": "markdown",
   "id": "7cf21591-f78a-4e44-8ac4-a07939fc19c2",
   "metadata": {},
   "source": [
    "## Sort articles\n",
    "For each cluster, list the articles sorted by citation_normalized_percentile.value"
   ]
  },
  {
   "cell_type": "code",
   "execution_count": 16,
   "id": "f761ee86-ce96-4499-a574-c72bd541b91d",
   "metadata": {},
   "outputs": [
    {
     "name": "stdout",
     "output_type": "stream",
     "text": [
      "\n",
      "        Research Quality and Impact Assessment\n",
      "\n",
      "        ==================\n",
      "        Jianguo Xu|Mengjun Li|Jiang Jiang|Bingfeng Ge|Mengsi Cai(2019). IEEE Access.Early Prediction of Scientific Impact Based on Multi-Bibliographic Features and Convolutional Neural Network. https://doi.org/10.1109/access.2019.2927011.\n",
      "    Giacomo Vaccario|Matúš Medo|Nicolas Wider|Manuel Sebastian Mariani(2017). Journal of Informetrics.Quantifying and suppressing ranking bias in a large citation network. https://doi.org/10.1016/j.joi.2017.05.014.\n",
      "    Pavel Savov|Adam Jatowt|Radosław Nielek(2020). Information Processing & Management.Identifying breakthrough scientific papers. https://doi.org/10.1016/j.ipm.2019.102168.\n",
      "    Michael Färber|Lazaros Tampakis(2023). Scientometrics.Analyzing the impact of companies on AI research based on publications. https://doi.org/10.1007/s11192-023-04867-3.\n",
      "    \n",
      "    \n",
      "\n",
      "        Research Collaboration and Open Science\n",
      "\n",
      "        ==================\n",
      "        Emre Sarigöl|René Pfitzner|Ingo Scholtes|Antonios Garas|Frank Schweitzer(2014). EPJ Data Science.Predicting scientific success based on coauthorship networks. https://doi.org/10.1140/epjds/s13688-014-0009-x.\n",
      "    Garret Christensen|Edward Miguel(2018). Journal of Economic Literature.Transparency, Reproducibility, and the Credibility of Economics Research. https://doi.org/10.1257/jel.20171350.\n",
      "    Lutz Bornmann|Robin Haunschild|Sven E. Hug(2017). Scientometrics.Visualizing the context of citations referencing papers published by Eugene Garfield: a new type of keyword co-occurrence analysis. https://doi.org/10.1007/s11192-017-2591-8.\n",
      "    Pierre Azoulay|Freda B. Lynn(2020). Sociological Science.Self-Citation, Cumulative Advantage, and Gender Inequality in Science. https://doi.org/10.15195/v7.a7.\n",
      "    Shahzad Nazir|Muhammad Asif|Shahbaz Ahmad|Faisal Bukhari|Muhammad Tanvir Afzal|Hanan Aljuaid(2020). PLoS ONE.Important citation identification by exploiting content and section-wise in-text citation count. https://doi.org/10.1371/journal.pone.0228885.\n",
      "    Kevin W. Boyack|Caleb Smith|Richard Klavans(2020). Scientific Data.A detailed open access model of the PubMed literature. https://doi.org/10.1038/s41597-020-00749-y.\n",
      "    Yi Zhang|Mengjia Wu|Zhengyin Hu|Robert Ward|Xue Zhang|Alan L. Porter(2021). Quantitative Science Studies.Profiling and predicting the problem-solving patterns in China’s research systems: A methodology of intelligent bibliometrics and empirical insights. https://doi.org/10.1162/qss_a_00100.\n",
      "    Na Liu|Philip Shapira|Xiaoxu Yue(2021). Scientometrics.Tracking developments in artificial intelligence research: constructing and applying a new search strategy. https://doi.org/10.1007/s11192-021-03868-4.\n",
      "    Yousef Al-Ohali|Mahmoud S. Fayed|Tamer A. Mesallam|Yassin Abdelsamad|Fida Almuhawas|Abdulrahman Hagr(2022). BioMed Research International.A Machine Learning Model to Predict Citation Counts of Scientific Papers in Otology Field. https://doi.org/10.1155/2022/2239152.\n",
      "    Michael Gusenbauer(2022). Scientometrics.Search where you will find most: Comparing the disciplinary coverage of 56 bibliographic databases. https://doi.org/10.1007/s11192-022-04289-7.\n",
      "    Andreas Pacher|Tamara Heck|Kerstin Schoch(2022). Research Evaluation.Open Editors: A dataset of scholarly journals’ editorial board positions. https://doi.org/10.1093/reseval/rvac037.\n",
      "    Eugenio Petrovich(2022). Synthese.Acknowledgments-based networks for mapping the social structure of research fields. A case study on recent analytic philosophy. https://doi.org/10.1007/s11229-022-03515-2.\n",
      "    \n",
      "    \n",
      "\n",
      "        Research Information Science and Data Management\n",
      "\n",
      "        ==================\n",
      "        Bas Hofstra|Vivek Kulkarni|Sebastian Munoz-Najar Galvez|Bryan He|Dan Jurafsky|Daniel A. McFarland(2020). Proceedings of the National Academy of Sciences.The Diversity–Innovation Paradox in Science. https://doi.org/10.1073/pnas.1915378117.\n",
      "    Christian Herzog|Daniel Hook|Stacy Konkiel(2020). Quantitative Science Studies.Dimensions: Bringing down barriers between scientometricians and data. https://doi.org/10.1162/qss_a_00020.\n",
      "    Peter Buneman|Dennis Dosso|Matteo Lissandrini|Gianmaria Silvello(2021). Quantitative Science Studies.Data citation and the citation graph. https://doi.org/10.1162/qss_a_00166.\n",
      "    David Chavalarias|Quentin Lobbé|Alexandre Delanoë(2021). Scientometrics.Draw me Science. https://doi.org/10.1007/s11192-021-04186-5.\n",
      "    \n",
      "    \n"
     ]
    }
   ],
   "source": [
    "ARTICLE_CITATION_PERCENTILE = 0.95\n",
    "\n",
    "def format_article(article):\n",
    "    authorships = article['authorships.author.display_name'].replace(\"\\n\", '')\n",
    "    resp = f\"\"\"{article['authorships.author.display_name']}({article['publication_year']}). {article['primary_location.source.display_name']}.{article['title']}. {article['doi']}.\n",
    "    \"\"\"\n",
    "    return resp\n",
    "\n",
    "for topic_number in labels_df['topic_number']:\n",
    "    label = labels_df[labels_df['topic_number']==topic_number]['label'].to_string(index=False)\n",
    "    idx = clean_df['cluster_label'] == topic_number\n",
    "\n",
    "    # sort articles by citation percentile value (as provided by OpenAlex)\n",
    "    articles = clean_df[idx].sort_values('citation_normalized_percentile.value', ascending=False)\n",
    "    # keep articles in 95% percentile (as set in ARTICLE_CITATION_PERCENTILE)\n",
    "    idx = articles['citation_normalized_percentile.value'] >= ARTICLE_CITATION_PERCENTILE\n",
    "    articles = articles[idx]\n",
    "\n",
    "    # format and print references to chosen articles, by topic\n",
    "    articles_formatted = []\n",
    "    for article_id in articles.index:\n",
    "        article = clean_df.loc[article_id]\n",
    "        articles_formatted.append(format_article(article))        \n",
    "    print(f\"\"\"\n",
    "        {label}\\n\n",
    "        ==================\n",
    "        {\"\".join(articles_formatted)}\n",
    "    \"\"\")\n"
   ]
  },
  {
   "cell_type": "code",
   "execution_count": null,
   "id": "25d0f0fb-80b0-42dc-a7ad-662b80d455e9",
   "metadata": {},
   "outputs": [],
   "source": []
  }
 ],
 "metadata": {
  "kernelspec": {
   "display_name": "Python 3 (ipykernel)",
   "language": "python",
   "name": "python3"
  },
  "language_info": {
   "codemirror_mode": {
    "name": "ipython",
    "version": 3
   },
   "file_extension": ".py",
   "mimetype": "text/x-python",
   "name": "python",
   "nbconvert_exporter": "python",
   "pygments_lexer": "ipython3",
   "version": "3.11.2"
  }
 },
 "nbformat": 4,
 "nbformat_minor": 5
}

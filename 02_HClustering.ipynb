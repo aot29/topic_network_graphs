{
 "cells": [
  {
   "cell_type": "markdown",
   "id": "1d020f18-cbcd-4eda-8090-e8ca4dbe2b95",
   "metadata": {},
   "source": [
    "# Hierarchical clustering\n",
    "Based on the keywords given to articles by OpenAlex. see also: https://docs.openalex.org/api-entities/keywords\n",
    "\n",
    "The data prepared in 01_Clean has been augmented with boolean keyword columns, one column for each keyword. Apply hierarchical clustering to these keywords, to identify structure in the dataset."
   ]
  },
  {
   "cell_type": "code",
   "execution_count": 1,
   "id": "208d5a48-ba3f-42a9-a941-8a28c56722a4",
   "metadata": {},
   "outputs": [],
   "source": [
    "from scipy.cluster.hierarchy import linkage, fcluster, dendrogram\n",
    "import pandas as pd\n",
    "import os\n",
    "from matplotlib import pyplot as plt \n",
    "    \n",
    "%matplotlib inline"
   ]
  },
  {
   "cell_type": "code",
   "execution_count": 2,
   "id": "b8171d68-6300-4ed9-a5c8-86fa451f759b",
   "metadata": {},
   "outputs": [],
   "source": [
    "DATA_PATH = 'data'  # path to folder with (downloaded or generated) data, will not be committed to git\n",
    "ACRONYM = 'openalex_tng'  # Acronym, aka machine readable name, of this dataset ('tng' stands for \"topic netework graph\")"
   ]
  },
  {
   "cell_type": "code",
   "execution_count": 3,
   "id": "9ef0b1f7-a3eb-451b-88ac-dc89fa19043f",
   "metadata": {},
   "outputs": [],
   "source": [
    "# load the data\n",
    "clean_df = pd.read_csv(os.path.join(DATA_PATH, f\"{ACRONYM}_clean.csv.zip\"), index_col=0)"
   ]
  },
  {
   "cell_type": "markdown",
   "id": "dea16590-c042-4772-bd54-46b2a5c87635",
   "metadata": {},
   "source": [
    "### Clustering\n",
    "1. Extract the keyword columns into a separate dataframe \n",
    "2. Linkage method computes distance matrix\n",
    "3. Create dendrogram\n",
    "4. fcluster assigns cluster labels to rows."
   ]
  },
  {
   "cell_type": "markdown",
   "id": "73c12e21-288f-4b44-b0c6-38a8e13d146c",
   "metadata": {},
   "source": [
    "#### Extract the keyword columns into a separate dataframe "
   ]
  },
  {
   "cell_type": "code",
   "execution_count": 4,
   "id": "f9ec0820-7f03-4a86-86d4-3a86843dc244",
   "metadata": {},
   "outputs": [],
   "source": [
    "# keyword columns\n",
    "colnames = clean_df.columns[14: -34]\n",
    "keywords_df = clean_df.loc[:, colnames]"
   ]
  },
  {
   "cell_type": "markdown",
   "id": "53d81fb8-1b9b-444e-aaa5-3f5e961a3e3a",
   "metadata": {},
   "source": [
    "#### Linkage method computes distance matrix\n",
    "* Distance metric: Using 'cityblock' (aka manhattan distance) instead of default 'euclidean', as keyword columns are boolean.\n",
    "* Clustering method: As using non-euclidean distance, method 'single' is applied to clustering."
   ]
  },
  {
   "cell_type": "code",
   "execution_count": 5,
   "id": "052294b3-83e2-4009-8cc5-aef75addd59f",
   "metadata": {},
   "outputs": [],
   "source": [
    "# compute distance matrix Z\n",
    "Z = linkage(keywords_df, method = 'complete', metric = 'cityblock', optimal_ordering=True)"
   ]
  },
  {
   "cell_type": "markdown",
   "id": "ec25f2c5-e1ac-4439-ae27-dfcff004db9d",
   "metadata": {},
   "source": [
    "#### Create dendrogram\n",
    "* x-axis: distance between clusters\n",
    "* y-axis: dissimilarity between clusters\n",
    "  "
   ]
  },
  {
   "cell_type": "code",
   "execution_count": 32,
   "id": "29c925c5-075d-474d-9929-7083aa0de6cd",
   "metadata": {},
   "outputs": [
    {
     "data": {
      "image/png": "[encoded data removed]",
      "text/plain": [
       "<Figure size 2000x500 with 1 Axes>"
      ]
     },
     "metadata": {},
     "output_type": "display_data"
    }
   ],
   "source": [
    "dn = dendrogram(Z)\n",
    "plt.rcParams['figure.figsize'] = [20, 5]\n",
    "plt.show()"
   ]
  },
  {
   "cell_type": "markdown",
   "id": "75f2ed62-c434-48b7-89cb-bc2d5380bfe3",
   "metadata": {},
   "source": [
    "#### fcluster assigns cluster labels to rows"
   ]
  },
  {
   "cell_type": "code",
   "execution_count": 7,
   "id": "6f1e21ef-2bdf-45c3-b5d5-ef825b7c3cf5",
   "metadata": {},
   "outputs": [
    {
     "data": {
      "text/plain": [
       "cluster_label\n",
       "1    16\n",
       "2    34\n",
       "3    14\n",
       "4     1\n",
       "dtype: int64"
      ]
     },
     "execution_count": 7,
     "metadata": {},
     "output_type": "execute_result"
    }
   ],
   "source": [
    "clean_df['cluster_label'] = fcluster(Z, 4, criterion='maxclust')\n",
    "clean_df.groupby('cluster_label').size()"
   ]
  },
  {
   "cell_type": "markdown",
   "id": "5462587a-62ac-44ce-8808-75135ebc2b1b",
   "metadata": {},
   "source": [
    "## Label each cluster\n",
    "* Count occurrences of keywords by cluster\n",
    "* Use LLM to label each cluster based on keywords"
   ]
  },
  {
   "cell_type": "code",
   "execution_count": 30,
   "id": "c67e350d-b36c-4582-97ca-d6ece459ea6c",
   "metadata": {},
   "outputs": [],
   "source": [
    "cluster_labels = clean_df['cluster_label'].unique()\n",
    "label_keywords = {}\n",
    "for label in cluster_labels:\n",
    "    # get all articles with this label\n",
    "    idx = clean_df['cluster_label'] == label\n",
    "    articles_by_label = clean_df[idx]\n",
    "    # count occurrences of keywords for articles by label\n",
    "    keywords_df = articles_by_label.loc[:, colnames]  # colnames = names of keyword columns\n",
    "    keywords_counts = keywords_df.sum().sort_values(ascending=False)\n",
    "    # keep only entries with at least 1  occurrence\n",
    "    keywords_counts = keywords_counts[keywords_counts > 0]\n",
    "    label_keywords[label]= keywords_counts"
   ]
  },
  {
   "cell_type": "code",
   "execution_count": 55,
   "id": "e7f26518-b6eb-40bc-9859-3e73edc0ebb4",
   "metadata": {},
   "outputs": [],
   "source": [
    "# For each label, concatenate the keywords as a comma-sparated string (ordered by count ascending)\n",
    "label_strings = {label:', '.join(keywords.index) for label,keywords in label_keywords.items()}"
   ]
  },
  {
   "cell_type": "code",
   "execution_count": null,
   "id": "b52c36c8-7c76-4252-a1dc-13869e278092",
   "metadata": {},
   "outputs": [],
   "source": []
  }
 ],
 "metadata": {
  "kernelspec": {
   "display_name": "Python 3 (ipykernel)",
   "language": "python",
   "name": "python3"
  },
  "language_info": {
   "codemirror_mode": {
    "name": "ipython",
    "version": 3
   },
   "file_extension": ".py",
   "mimetype": "text/x-python",
   "name": "python",
   "nbconvert_exporter": "python",
   "pygments_lexer": "ipython3",
   "version": "3.12.2"
  }
 },
 "nbformat": 4,
 "nbformat_minor": 5
}

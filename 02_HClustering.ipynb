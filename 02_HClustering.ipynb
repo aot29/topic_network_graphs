{
 "cells": [
  {
   "cell_type": "markdown",
   "id": "1d020f18-cbcd-4eda-8090-e8ca4dbe2b95",
   "metadata": {},
   "source": [
    "# Hierarchical clustering\n",
    "Based on the keywords.\n",
    "\n",
    "The data prepared in 01_Clean has been augmented with boolean keyword columns. Apply hierarchical clustering to these keywords, to identify structurein the dataset."
   ]
  },
  {
   "cell_type": "code",
   "execution_count": 9,
   "id": "208d5a48-ba3f-42a9-a941-8a28c56722a4",
   "metadata": {},
   "outputs": [],
   "source": [
    "from scipy.cluster.hierarchy import linkage, fcluster\n",
    "import pandas as pd\n",
    "import os"
   ]
  },
  {
   "cell_type": "code",
   "execution_count": 10,
   "id": "b8171d68-6300-4ed9-a5c8-86fa451f759b",
   "metadata": {},
   "outputs": [],
   "source": [
    "DATA_PATH = 'data'  # path to folder with (downloaded or generated) data, will not be committed to git\n",
    "ACRONYM = 'openalex_tng'  # Acronym, aka machine readable name, of this dataset ('tng' stands for \"topic netework graph\")"
   ]
  },
  {
   "cell_type": "code",
   "execution_count": 11,
   "id": "9ef0b1f7-a3eb-451b-88ac-dc89fa19043f",
   "metadata": {},
   "outputs": [],
   "source": [
    "# load the data\n",
    "clean_df = pd.read_csv(os.path.join(DATA_PATH, f\"{ACRONYM}.csv.zip\"), index_col=0)"
   ]
  },
  {
   "cell_type": "code",
   "execution_count": 40,
   "id": "f9ec0820-7f03-4a86-86d4-3a86843dc244",
   "metadata": {},
   "outputs": [],
   "source": [
    "# keyword columns\n",
    "colnames = clean_df.columns[14: -34]\n",
    "keywords_df = clean_df.loc[:, colnames]"
   ]
  },
  {
   "cell_type": "markdown",
   "id": "dea16590-c042-4772-bd54-46b2a5c87635",
   "metadata": {},
   "source": [
    "### Clustering\n",
    "1. Linkage method computes distance matrix,\n",
    "2. fcluster assigns cluster labels to rows."
   ]
  },
  {
   "cell_type": "code",
   "execution_count": 44,
   "id": "052294b3-83e2-4009-8cc5-aef75addd59f",
   "metadata": {},
   "outputs": [],
   "source": [
    "Z = linkage(keywords_df, method = 'ward', metric = 'euclidean')\n",
    "clean_df['cluster_labels'] = fcluster(Z, 5, criterion='maxclust')"
   ]
  },
  {
   "cell_type": "code",
   "execution_count": 45,
   "id": "6f1e21ef-2bdf-45c3-b5d5-ef825b7c3cf5",
   "metadata": {},
   "outputs": [
    {
     "data": {
      "text/plain": [
       "id\n",
       "https://openalex.org/W3016013581    4\n",
       "https://openalex.org/W2111836958    1\n",
       "https://openalex.org/W4286210710    2\n",
       "https://openalex.org/W4285731179    1\n",
       "https://openalex.org/W2136106200    3\n",
       "                                   ..\n",
       "https://openalex.org/W4380906871    5\n",
       "https://openalex.org/W4388815328    2\n",
       "https://openalex.org/W4388193111    2\n",
       "https://openalex.org/W4393240927    1\n",
       "https://openalex.org/W4391540009    4\n",
       "Name: cluster_labels, Length: 65, dtype: int32"
      ]
     },
     "execution_count": 45,
     "metadata": {},
     "output_type": "execute_result"
    }
   ],
   "source": [
    "clean_df['cluster_labels']"
   ]
  },
  {
   "cell_type": "markdown",
   "id": "79e6f208-87c8-49dc-8b96-dbcd84d54b58",
   "metadata": {},
   "source": [
    "Continue here: https://campus.datacamp.com/courses/cluster-analysis-in-python/hierarchical-clustering-7e10764b-dd0d-4b0e-9134-513c3e750e68?ex=8"
   ]
  }
 ],
 "metadata": {
  "kernelspec": {
   "display_name": "Python 3 (ipykernel)",
   "language": "python",
   "name": "python3"
  },
  "language_info": {
   "codemirror_mode": {
    "name": "ipython",
    "version": 3
   },
   "file_extension": ".py",
   "mimetype": "text/x-python",
   "name": "python",
   "nbconvert_exporter": "python",
   "pygments_lexer": "ipython3",
   "version": "3.12.2"
  }
 },
 "nbformat": 4,
 "nbformat_minor": 5
}

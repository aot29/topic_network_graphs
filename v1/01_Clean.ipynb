{
 "cells": [
  {
   "cell_type": "markdown",
   "id": "75ae29af-4fa0-49e1-afe7-107f73ec7e9c",
   "metadata": {},
   "source": [
    "# Clean and tokenize the data\n",
    "Open the data (metadata and abstracts) downloaded manually from OpenAlex (see README).\n",
    "* Keop oly entries with an abstract"
   ]
  },
  {
   "cell_type": "code",
   "execution_count": 1,
   "id": "f146ad1a-a9a0-4ce8-9e36-9c78918822d5",
   "metadata": {},
   "outputs": [],
   "source": [
    "import pandas as pd\n",
    "from sklearn.model_selection import train_test_split\n",
    "import zipfile as zf\n",
    "import pickle\n",
    "import os"
   ]
  },
  {
   "cell_type": "code",
   "execution_count": 2,
   "id": "5464d0b6-6eaf-4705-8c6c-a95f12b630ee",
   "metadata": {},
   "outputs": [],
   "source": [
    "DATA_PATH = 'data'  # path to folder with (downloaded or generated) data, will not be committed to git\n",
    "ACRONYM = 'openalex_tng'  # Acronym, aka machine readable name, of this dataset ('tng' stands for \"topic netework graph\")"
   ]
  },
  {
   "cell_type": "code",
   "execution_count": 3,
   "id": "631d5447-9f59-4df3-b92f-050f413bc402",
   "metadata": {},
   "outputs": [],
   "source": [
    "data_df = pd.read_csv(os.path.join(DATA_PATH, f\"{ACRONYM}.csv\"), index_col=0)"
   ]
  },
  {
   "cell_type": "code",
   "execution_count": 4,
   "id": "65937ebf-5817-4a42-b7dc-542a8834d5b6",
   "metadata": {},
   "outputs": [
    {
     "name": "stdout",
     "output_type": "stream",
     "text": [
      "The downloaded data set has 97 rows and 171 columns.\n"
     ]
    }
   ],
   "source": [
    "print(f\"The downloaded data set has {data_df.shape[0]} rows and {data_df.shape[1]} columns.\")"
   ]
  },
  {
   "cell_type": "code",
   "execution_count": 5,
   "id": "3f95a963-66c8-4fb5-a9ca-c9e00b43a3a7",
   "metadata": {},
   "outputs": [
    {
     "data": {
      "text/plain": [
       "'doi, title, display_name, relevance_score, publication_year, publication_date, language, type, type_crossref, indexed_in, countries_distinct_count, institutions_distinct_count, corresponding_author_ids, corresponding_institution_ids, apc_list, apc_paid, fwci, has_fulltext, fulltext_origin, cited_by_count, is_retracted, is_paratext, locations_count, datasets, versions, referenced_works_count, referenced_works, related_works, cited_by_api_url, updated_date, created_date, ids.openalex, ids.doi, ids.mag, ids.pmid, ids.pmcid, primary_location.is_oa, primary_location.landing_page_url, primary_location.pdf_url, primary_location.source.id, primary_location.source.display_name, primary_location.source.issn_l, primary_location.source.issn, primary_location.source.is_oa, primary_location.source.is_in_doaj, primary_location.source.is_core, primary_location.source.host_organization, primary_location.source.host_organization_name, primary_location.source.host_organization_lineage, primary_location.source.host_organization_lineage_names, primary_location.source.type, primary_location.license, primary_location.license_id, primary_location.version, primary_location.is_accepted, primary_location.is_published, open_access.is_oa, open_access.oa_status, open_access.oa_url, open_access.any_repository_has_fulltext, citation_normalized_percentile.value, citation_normalized_percentile.is_in_top_1_percent, citation_normalized_percentile.is_in_top_10_percent, cited_by_percentile_year.min, cited_by_percentile_year.max, biblio.volume, biblio.issue, biblio.first_page, biblio.last_page, primary_topic.id, primary_topic.display_name, primary_topic.score, primary_topic.subfield.id, primary_topic.subfield.display_name, primary_topic.field.id, primary_topic.field.display_name, primary_topic.domain.id, primary_topic.domain.display_name, best_oa_location.is_oa, best_oa_location.landing_page_url, best_oa_location.pdf_url, best_oa_location.source.id, best_oa_location.source.display_name, best_oa_location.source.issn_l, best_oa_location.source.issn, best_oa_location.source.is_oa, best_oa_location.source.is_in_doaj, best_oa_location.source.is_core, best_oa_location.source.host_organization, best_oa_location.source.host_organization_name, best_oa_location.source.host_organization_lineage, best_oa_location.source.host_organization_lineage_names, best_oa_location.source.type, best_oa_location.license, best_oa_location.license_id, best_oa_location.version, best_oa_location.is_accepted, best_oa_location.is_published, apc_list.value, apc_list.currency, apc_list.value_usd, apc_list.provenance, apc_paid.value, apc_paid.currency, apc_paid.value_usd, apc_paid.provenance, best_oa_location, primary_location.source, best_oa_location.source, abstract, authorships.author_position, authorships.institutions, authorships.countries, authorships.is_corresponding, authorships.raw_author_name, authorships.raw_affiliation_strings, authorships.affiliations, authorships.author.id, authorships.author.display_name, authorships.author.orcid, topics.id, topics.display_name, topics.score, topics.subfield.id, topics.subfield.display_name, topics.field.id, topics.field.display_name, topics.domain.id, topics.domain.display_name, keywords.id, keywords.display_name, keywords.score, concepts.id, concepts.wikidata, concepts.display_name, concepts.level, concepts.score, mesh.descriptor_ui, mesh.descriptor_name, mesh.qualifier_ui, mesh.qualifier_name, mesh.is_major_topic, locations.is_oa, locations.landing_page_url, locations.pdf_url, locations.license, locations.license_id, locations.version, locations.is_accepted, locations.is_published, locations.source.id, locations.source.display_name, locations.source.issn_l, locations.source.issn, locations.source.is_oa, locations.source.is_in_doaj, locations.source.is_core, locations.source.host_organization, locations.source.host_organization_name, locations.source.host_organization_lineage, locations.source.host_organization_lineage_names, locations.source.type, locations.source, sustainable_development_goals.id, sustainable_development_goals.score, sustainable_development_goals.display_name, grants.funder, grants.funder_display_name, grants.award_id, counts_by_year.year, counts_by_year.cited_by_count'"
      ]
     },
     "execution_count": 5,
     "metadata": {},
     "output_type": "execute_result"
    }
   ],
   "source": [
    "# List data columns\n",
    "', '.join([colname for colname in data_df.columns])"
   ]
  },
  {
   "cell_type": "markdown",
   "id": "7bb9d30a-ae25-4e1c-aa2d-14fa61764240",
   "metadata": {},
   "source": [
    "## Data cleanup\n",
    "* Keep only columns used in further analysis (USED_COLS)\n",
    "* Filter out rows with missing data in the required columns (REQUIRED_COLS)\n",
    "* Remove duplicates"
   ]
  },
  {
   "cell_type": "code",
   "execution_count": 6,
   "id": "7d087cf4-4699-4978-a97b-426dd3b80d8e",
   "metadata": {},
   "outputs": [],
   "source": [
    "# columns used in the analysis\n",
    "USED_COLS = [\n",
    "    'authorships.author.display_name', 'publication_year', 'title', 'primary_location.source.display_name','doi', \n",
    "    'has_fulltext', 'is_retracted', 'primary_location.is_accepted', 'primary_location.is_published', \n",
    "    'abstract', 'keywords.display_name', \n",
    "    'citation_normalized_percentile.value', 'open_access.is_oa', 'authorships.countries']\n",
    "# columns required to have a value\n",
    "REQUIRED_COLS = [val for val in USED_COLS if val not in ['doi', 'open_access.is_oa', 'authorships.countries']]"
   ]
  },
  {
   "cell_type": "code",
   "execution_count": 7,
   "id": "fd98b87b-e12d-4545-bc6d-a1d4d9ef6c77",
   "metadata": {},
   "outputs": [],
   "source": [
    "# Keep only columns used in further analysis (USED_COLS)\n",
    "clean_df = data_df[USED_COLS]"
   ]
  },
  {
   "cell_type": "code",
   "execution_count": 8,
   "id": "35633cc8-2dc6-45ee-b4c8-4c7db2c9354e",
   "metadata": {},
   "outputs": [
    {
     "name": "stdout",
     "output_type": "stream",
     "text": [
      "Dropped 0 entries without authorships.author.display_name.\n",
      "Dropped 0 entries without publication_year.\n",
      "Dropped 0 entries without title.\n",
      "Dropped 7 entries without primary_location.source.display_name.\n",
      "Dropped 0 entries without has_fulltext.\n",
      "Dropped 0 entries without is_retracted.\n",
      "Dropped 0 entries without primary_location.is_accepted.\n",
      "Dropped 0 entries without primary_location.is_published.\n",
      "Dropped 12 entries without abstract.\n",
      "Dropped 0 entries without keywords.display_name.\n",
      "Dropped 0 entries without citation_normalized_percentile.value.\n"
     ]
    }
   ],
   "source": [
    "# Filter out rows with missing data in the required columns (REQUIRED_COLS)\n",
    "for col in REQUIRED_COLS:\n",
    "    idx = clean_df[col].isna()\n",
    "    clean_df = clean_df[~idx]\n",
    "    print(f\"Dropped {idx.sum()} entries without {col}.\")"
   ]
  },
  {
   "cell_type": "markdown",
   "id": "dd705e93-253c-47b8-935c-7aeb614770a8",
   "metadata": {},
   "source": [
    "## Handle duplicates"
   ]
  },
  {
   "cell_type": "code",
   "execution_count": 9,
   "id": "8f29e83e-5a50-4090-8397-ffa69dcff8db",
   "metadata": {},
   "outputs": [
    {
     "name": "stdout",
     "output_type": "stream",
     "text": [
      "Found 1 duplicated rows\n"
     ]
    }
   ],
   "source": [
    "# remove duplicated rows\n",
    "print(f\"Found {clean_df.duplicated().sum()} duplicated rows\")\n",
    "clean_df.drop_duplicates(inplace=True)"
   ]
  },
  {
   "cell_type": "markdown",
   "id": "424f7c33-6487-41a8-8490-bd5fbe81f995",
   "metadata": {},
   "source": [
    "## Remove retracted and not reviewd articles"
   ]
  },
  {
   "cell_type": "code",
   "execution_count": 10,
   "id": "e38a8465-dfe9-4f98-bbb9-b62032ffd76b",
   "metadata": {},
   "outputs": [
    {
     "name": "stdout",
     "output_type": "stream",
     "text": [
      "Count of articles that have been retacted: 0\n"
     ]
    }
   ],
   "source": [
    "# remove retracted articles\n",
    "idx = clean_df['is_retracted']\n",
    "clean_df = clean_df[~idx]\n",
    "print(f\"Count of articles that have been retacted: {idx.sum()}\")"
   ]
  },
  {
   "cell_type": "code",
   "execution_count": 11,
   "id": "f75d9236-73bf-44a7-96f7-b1e4f25c0554",
   "metadata": {},
   "outputs": [
    {
     "name": "stdout",
     "output_type": "stream",
     "text": [
      "Count of articles that have not been published or accepted: 12\n"
     ]
    }
   ],
   "source": [
    "# remove non-published or accepted articles\n",
    "idx = ~(clean_df['primary_location.is_accepted']) & ~(clean_df['primary_location.is_published'])\n",
    "clean_df = clean_df[~idx]\n",
    "print(f\"Count of articles that have not been published or accepted: {idx.sum()}\")"
   ]
  },
  {
   "cell_type": "code",
   "execution_count": 12,
   "id": "cde55145-3fdc-4100-9eea-c9d2d0a96ebc",
   "metadata": {},
   "outputs": [
    {
     "data": {
      "text/plain": [
       "(65, 14)"
      ]
     },
     "execution_count": 12,
     "metadata": {},
     "output_type": "execute_result"
    }
   ],
   "source": [
    "clean_df.shape"
   ]
  },
  {
   "cell_type": "markdown",
   "id": "0fd544d0-4407-483c-976f-a847d46c7a69",
   "metadata": {},
   "source": [
    "## Feature engineering\n",
    "One-hot encode keywords and countries."
   ]
  },
  {
   "cell_type": "code",
   "execution_count": 13,
   "id": "0a0b8b93-0c4f-47d1-b3e0-4d6f4fae81e8",
   "metadata": {},
   "outputs": [
    {
     "name": "stdout",
     "output_type": "stream",
     "text": [
      "Added 117 columns for keywords\n"
     ]
    }
   ],
   "source": [
    "# Keywords are provided as '|'-separated strings. Apply one-hot encoding:  \n",
    "one_hot_keywords = clean_df['keywords.display_name'].str.get_dummies()\n",
    "clean_df = clean_df.join(one_hot_keywords)\n",
    "print(f\"Added {one_hot_keywords.shape[1]} columns for keywords\")"
   ]
  },
  {
   "cell_type": "code",
   "execution_count": 14,
   "id": "49f74709-70f2-40cf-9f43-bc13d70002fd",
   "metadata": {},
   "outputs": [
    {
     "data": {
      "text/plain": [
       "(65, 117)"
      ]
     },
     "execution_count": 14,
     "metadata": {},
     "output_type": "execute_result"
    }
   ],
   "source": [
    "one_hot_keywords.shape"
   ]
  },
  {
   "cell_type": "code",
   "execution_count": 15,
   "id": "7f181e5b-71e3-4235-91b8-cadb3f12532e",
   "metadata": {},
   "outputs": [
    {
     "name": "stdout",
     "output_type": "stream",
     "text": [
      "Added 34 columns for countries\n"
     ]
    }
   ],
   "source": [
    "# Countries are provided as '|'-separated strings. Apply one-hot encoding:  \n",
    "one_hot_countries = clean_df['authorships.countries'].str.get_dummies()\n",
    "clean_df = clean_df.join(one_hot_countries)\n",
    "print(f\"Added {one_hot_countries.shape[1]} columns for countries\")"
   ]
  },
  {
   "cell_type": "code",
   "execution_count": 16,
   "id": "4635edc0-8d32-4cc7-bcd6-5a81be82e679",
   "metadata": {},
   "outputs": [
    {
     "name": "stdout",
     "output_type": "stream",
     "text": [
      "The dataset now has 65 rows and 165 columns.\n"
     ]
    }
   ],
   "source": [
    "print(f\"The dataset now has {clean_df.shape[0]} rows and {clean_df.shape[1]} columns.\")"
   ]
  },
  {
   "cell_type": "markdown",
   "id": "64dd8947-8eae-495c-b9cf-37e31ae2984a",
   "metadata": {},
   "source": [
    "## Save the cleaned data"
   ]
  },
  {
   "cell_type": "code",
   "execution_count": 17,
   "id": "8c8d906b-a400-4acd-a7ee-a932d4882c0f",
   "metadata": {},
   "outputs": [],
   "source": [
    "def save_dataset(filename, path, df):\n",
    "    \"\"\"Writes a zipped file with a correctly named csv file inside.\"\"\"\n",
    "    with zf.ZipFile(path, 'w') as ziparchive:\n",
    "        ziparchive.writestr(filename, df.to_csv())"
   ]
  },
  {
   "cell_type": "code",
   "execution_count": 18,
   "id": "b4875364-90c5-43a5-b9d3-187d7bd758c0",
   "metadata": {},
   "outputs": [],
   "source": [
    "csvname = f\"{ACRONYM}_clean.csv\"\n",
    "path = os.path.join(DATA_PATH, f\"{csvname}.zip\")\n",
    "save_dataset(csvname, path, clean_df)"
   ]
  },
  {
   "cell_type": "code",
   "execution_count": null,
   "id": "39973516-53a1-46e2-8c5c-662e2550bb32",
   "metadata": {},
   "outputs": [],
   "source": []
  }
 ],
 "metadata": {
  "kernelspec": {
   "display_name": "Python 3 (ipykernel)",
   "language": "python",
   "name": "python3"
  },
  "language_info": {
   "codemirror_mode": {
    "name": "ipython",
    "version": 3
   },
   "file_extension": ".py",
   "mimetype": "text/x-python",
   "name": "python",
   "nbconvert_exporter": "python",
   "pygments_lexer": "ipython3",
   "version": "3.11.2"
  }
 },
 "nbformat": 4,
 "nbformat_minor": 5
}
